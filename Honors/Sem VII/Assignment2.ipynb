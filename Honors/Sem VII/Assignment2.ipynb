{
 "cells": [
  {
   "cell_type": "markdown",
   "metadata": {},
   "source": [
    "# Assignment 2"
   ]
  },
  {
   "cell_type": "code",
   "execution_count": 1,
   "metadata": {
    "_cell_guid": "b1076dfc-b9ad-4769-8c92-a6c4dae69d19",
    "_uuid": "8f2839f25d086af736a60e9eeb907d3b93b6e0e5",
    "execution": {
     "iopub.execute_input": "2023-08-24T16:48:52.097819Z",
     "iopub.status.busy": "2023-08-24T16:48:52.097126Z",
     "iopub.status.idle": "2023-08-24T16:48:52.103987Z",
     "shell.execute_reply": "2023-08-24T16:48:52.102828Z",
     "shell.execute_reply.started": "2023-08-24T16:48:52.097788Z"
    }
   },
   "outputs": [],
   "source": [
    "import tensorflow as tf\n",
    "import pandas as pd\n",
    "import numpy as np\n",
    "import matplotlib.pyplot as plt\n",
    "from sklearn.model_selection import train_test_split\n",
    "from sklearn.preprocessing import StandardScaler"
   ]
  },
  {
   "cell_type": "code",
   "execution_count": 3,
   "metadata": {
    "execution": {
     "iopub.execute_input": "2023-08-24T16:48:52.107337Z",
     "iopub.status.busy": "2023-08-24T16:48:52.105442Z",
     "iopub.status.idle": "2023-08-24T16:49:26.285413Z",
     "shell.execute_reply": "2023-08-24T16:49:26.284128Z",
     "shell.execute_reply.started": "2023-08-24T16:48:52.107302Z"
    }
   },
   "outputs": [
    {
     "data": {
      "text/html": [
       "<div>\n",
       "<style scoped>\n",
       "    .dataframe tbody tr th:only-of-type {\n",
       "        vertical-align: middle;\n",
       "    }\n",
       "\n",
       "    .dataframe tbody tr th {\n",
       "        vertical-align: top;\n",
       "    }\n",
       "\n",
       "    .dataframe thead th {\n",
       "        text-align: right;\n",
       "    }\n",
       "</style>\n",
       "<table border=\"1\" class=\"dataframe\">\n",
       "  <thead>\n",
       "    <tr style=\"text-align: right;\">\n",
       "      <th></th>\n",
       "      <th>0</th>\n",
       "      <th>0.1</th>\n",
       "      <th>0.2</th>\n",
       "      <th>0.3</th>\n",
       "      <th>0.4</th>\n",
       "      <th>0.5</th>\n",
       "      <th>0.6</th>\n",
       "      <th>0.7</th>\n",
       "      <th>0.8</th>\n",
       "      <th>0.9</th>\n",
       "      <th>...</th>\n",
       "      <th>0.639</th>\n",
       "      <th>0.640</th>\n",
       "      <th>0.641</th>\n",
       "      <th>0.642</th>\n",
       "      <th>0.643</th>\n",
       "      <th>0.644</th>\n",
       "      <th>0.645</th>\n",
       "      <th>0.646</th>\n",
       "      <th>0.647</th>\n",
       "      <th>0.648</th>\n",
       "    </tr>\n",
       "  </thead>\n",
       "  <tbody>\n",
       "    <tr>\n",
       "      <th>0</th>\n",
       "      <td>0</td>\n",
       "      <td>0</td>\n",
       "      <td>0</td>\n",
       "      <td>0</td>\n",
       "      <td>0</td>\n",
       "      <td>0</td>\n",
       "      <td>0</td>\n",
       "      <td>0</td>\n",
       "      <td>0</td>\n",
       "      <td>0</td>\n",
       "      <td>...</td>\n",
       "      <td>0</td>\n",
       "      <td>0</td>\n",
       "      <td>0</td>\n",
       "      <td>0</td>\n",
       "      <td>0</td>\n",
       "      <td>0</td>\n",
       "      <td>0</td>\n",
       "      <td>0</td>\n",
       "      <td>0</td>\n",
       "      <td>0</td>\n",
       "    </tr>\n",
       "    <tr>\n",
       "      <th>1</th>\n",
       "      <td>0</td>\n",
       "      <td>0</td>\n",
       "      <td>0</td>\n",
       "      <td>0</td>\n",
       "      <td>0</td>\n",
       "      <td>0</td>\n",
       "      <td>0</td>\n",
       "      <td>0</td>\n",
       "      <td>0</td>\n",
       "      <td>0</td>\n",
       "      <td>...</td>\n",
       "      <td>0</td>\n",
       "      <td>0</td>\n",
       "      <td>0</td>\n",
       "      <td>0</td>\n",
       "      <td>0</td>\n",
       "      <td>0</td>\n",
       "      <td>0</td>\n",
       "      <td>0</td>\n",
       "      <td>0</td>\n",
       "      <td>0</td>\n",
       "    </tr>\n",
       "    <tr>\n",
       "      <th>2</th>\n",
       "      <td>0</td>\n",
       "      <td>0</td>\n",
       "      <td>0</td>\n",
       "      <td>0</td>\n",
       "      <td>0</td>\n",
       "      <td>0</td>\n",
       "      <td>0</td>\n",
       "      <td>0</td>\n",
       "      <td>0</td>\n",
       "      <td>0</td>\n",
       "      <td>...</td>\n",
       "      <td>0</td>\n",
       "      <td>0</td>\n",
       "      <td>0</td>\n",
       "      <td>0</td>\n",
       "      <td>0</td>\n",
       "      <td>0</td>\n",
       "      <td>0</td>\n",
       "      <td>0</td>\n",
       "      <td>0</td>\n",
       "      <td>0</td>\n",
       "    </tr>\n",
       "    <tr>\n",
       "      <th>3</th>\n",
       "      <td>0</td>\n",
       "      <td>0</td>\n",
       "      <td>0</td>\n",
       "      <td>0</td>\n",
       "      <td>0</td>\n",
       "      <td>0</td>\n",
       "      <td>0</td>\n",
       "      <td>0</td>\n",
       "      <td>0</td>\n",
       "      <td>0</td>\n",
       "      <td>...</td>\n",
       "      <td>0</td>\n",
       "      <td>0</td>\n",
       "      <td>0</td>\n",
       "      <td>0</td>\n",
       "      <td>0</td>\n",
       "      <td>0</td>\n",
       "      <td>0</td>\n",
       "      <td>0</td>\n",
       "      <td>0</td>\n",
       "      <td>0</td>\n",
       "    </tr>\n",
       "    <tr>\n",
       "      <th>4</th>\n",
       "      <td>0</td>\n",
       "      <td>0</td>\n",
       "      <td>0</td>\n",
       "      <td>0</td>\n",
       "      <td>0</td>\n",
       "      <td>0</td>\n",
       "      <td>0</td>\n",
       "      <td>0</td>\n",
       "      <td>0</td>\n",
       "      <td>0</td>\n",
       "      <td>...</td>\n",
       "      <td>0</td>\n",
       "      <td>0</td>\n",
       "      <td>0</td>\n",
       "      <td>0</td>\n",
       "      <td>0</td>\n",
       "      <td>0</td>\n",
       "      <td>0</td>\n",
       "      <td>0</td>\n",
       "      <td>0</td>\n",
       "      <td>0</td>\n",
       "    </tr>\n",
       "  </tbody>\n",
       "</table>\n",
       "<p>5 rows × 785 columns</p>\n",
       "</div>"
      ],
      "text/plain": [
       "   0  0.1  0.2  0.3  0.4  0.5  0.6  0.7  0.8  0.9  ...  0.639  0.640  0.641  \\\n",
       "0  0    0    0    0    0    0    0    0    0    0  ...      0      0      0   \n",
       "1  0    0    0    0    0    0    0    0    0    0  ...      0      0      0   \n",
       "2  0    0    0    0    0    0    0    0    0    0  ...      0      0      0   \n",
       "3  0    0    0    0    0    0    0    0    0    0  ...      0      0      0   \n",
       "4  0    0    0    0    0    0    0    0    0    0  ...      0      0      0   \n",
       "\n",
       "   0.642  0.643  0.644  0.645  0.646  0.647  0.648  \n",
       "0      0      0      0      0      0      0      0  \n",
       "1      0      0      0      0      0      0      0  \n",
       "2      0      0      0      0      0      0      0  \n",
       "3      0      0      0      0      0      0      0  \n",
       "4      0      0      0      0      0      0      0  \n",
       "\n",
       "[5 rows x 785 columns]"
      ]
     },
     "execution_count": 3,
     "metadata": {},
     "output_type": "execute_result"
    }
   ],
   "source": [
    "data = pd.read_csv(\"/kaggle/input/az-handwritten-alphabets-in-csv-format/A_Z Handwritten Data.csv\")\n",
    "data.head()"
   ]
  },
  {
   "cell_type": "code",
   "execution_count": 4,
   "metadata": {
    "execution": {
     "iopub.execute_input": "2023-08-24T16:49:26.290447Z",
     "iopub.status.busy": "2023-08-24T16:49:26.290122Z",
     "iopub.status.idle": "2023-08-24T16:49:26.297911Z",
     "shell.execute_reply": "2023-08-24T16:49:26.296821Z",
     "shell.execute_reply.started": "2023-08-24T16:49:26.290417Z"
    }
   },
   "outputs": [
    {
     "data": {
      "text/plain": [
       "Index(['0', '0.1', '0.2', '0.3', '0.4', '0.5', '0.6', '0.7', '0.8', '0.9',\n",
       "       ...\n",
       "       '0.639', '0.640', '0.641', '0.642', '0.643', '0.644', '0.645', '0.646',\n",
       "       '0.647', '0.648'],\n",
       "      dtype='object', length=785)"
      ]
     },
     "execution_count": 4,
     "metadata": {},
     "output_type": "execute_result"
    }
   ],
   "source": [
    "data.columns"
   ]
  },
  {
   "cell_type": "code",
   "execution_count": 5,
   "metadata": {
    "execution": {
     "iopub.execute_input": "2023-08-24T16:49:26.300698Z",
     "iopub.status.busy": "2023-08-24T16:49:26.299608Z",
     "iopub.status.idle": "2023-08-24T16:49:26.331164Z",
     "shell.execute_reply": "2023-08-24T16:49:26.330264Z",
     "shell.execute_reply.started": "2023-08-24T16:49:26.300627Z"
    }
   },
   "outputs": [
    {
     "data": {
      "text/plain": [
       "0     13869\n",
       "1      8668\n",
       "2     23409\n",
       "3     10134\n",
       "4     11440\n",
       "5      1163\n",
       "6      5762\n",
       "7      7218\n",
       "8      1120\n",
       "9      8493\n",
       "10     5603\n",
       "11    11586\n",
       "12    12336\n",
       "13    19010\n",
       "14    57825\n",
       "15    19341\n",
       "16     5812\n",
       "17    11566\n",
       "18    48419\n",
       "19    22495\n",
       "20    29008\n",
       "21     4182\n",
       "22    10784\n",
       "23     6272\n",
       "24    10859\n",
       "25     6076\n",
       "Name: 0, dtype: int64"
      ]
     },
     "execution_count": 5,
     "metadata": {},
     "output_type": "execute_result"
    }
   ],
   "source": [
    "data['0'].value_counts().sort_index()"
   ]
  },
  {
   "cell_type": "code",
   "execution_count": 6,
   "metadata": {
    "execution": {
     "iopub.execute_input": "2023-08-24T16:49:26.332935Z",
     "iopub.status.busy": "2023-08-24T16:49:26.332569Z",
     "iopub.status.idle": "2023-08-24T16:49:26.544183Z",
     "shell.execute_reply": "2023-08-24T16:49:26.543046Z",
     "shell.execute_reply.started": "2023-08-24T16:49:26.332902Z"
    }
   },
   "outputs": [
    {
     "data": {
      "text/plain": [
       "False"
      ]
     },
     "execution_count": 6,
     "metadata": {},
     "output_type": "execute_result"
    }
   ],
   "source": [
    "data.isnull().sum().any()"
   ]
  },
  {
   "cell_type": "code",
   "execution_count": 7,
   "metadata": {
    "execution": {
     "iopub.execute_input": "2023-08-24T16:49:26.546435Z",
     "iopub.status.busy": "2023-08-24T16:49:26.546040Z",
     "iopub.status.idle": "2023-08-24T16:49:26.864870Z",
     "shell.execute_reply": "2023-08-24T16:49:26.863756Z",
     "shell.execute_reply.started": "2023-08-24T16:49:26.546400Z"
    }
   },
   "outputs": [
    {
     "data": {
      "text/plain": [
       "<matplotlib.image.AxesImage at 0x7d3ff07aa920>"
      ]
     },
     "execution_count": 7,
     "metadata": {},
     "output_type": "execute_result"
    },
    {
     "data": {
      "image/png": "[encoded data removed]",
      "text/plain": [
       "<Figure size 640x480 with 1 Axes>"
      ]
     },
     "metadata": {},
     "output_type": "display_data"
    }
   ],
   "source": [
    "plt.imshow(data.sample().drop(columns=['0']).to_numpy().reshape((28, 28)))"
   ]
  },
  {
   "cell_type": "code",
   "execution_count": 8,
   "metadata": {
    "execution": {
     "iopub.execute_input": "2023-08-24T16:49:26.866956Z",
     "iopub.status.busy": "2023-08-24T16:49:26.866539Z",
     "iopub.status.idle": "2023-08-24T16:49:27.567469Z",
     "shell.execute_reply": "2023-08-24T16:49:27.565768Z",
     "shell.execute_reply.started": "2023-08-24T16:49:26.866915Z"
    }
   },
   "outputs": [],
   "source": [
    "X = data.drop(columns=['0'])\n",
    "y = data['0']"
   ]
  },
  {
   "cell_type": "code",
   "execution_count": 9,
   "metadata": {
    "execution": {
     "iopub.execute_input": "2023-08-24T16:49:27.570648Z",
     "iopub.status.busy": "2023-08-24T16:49:27.569624Z",
     "iopub.status.idle": "2023-08-24T16:49:27.576174Z",
     "shell.execute_reply": "2023-08-24T16:49:27.575098Z",
     "shell.execute_reply.started": "2023-08-24T16:49:27.570608Z"
    }
   },
   "outputs": [],
   "source": [
    "del data"
   ]
  },
  {
   "cell_type": "code",
   "execution_count": 10,
   "metadata": {
    "execution": {
     "iopub.execute_input": "2023-08-24T16:49:27.581159Z",
     "iopub.status.busy": "2023-08-24T16:49:27.580865Z",
     "iopub.status.idle": "2023-08-24T16:49:32.979261Z",
     "shell.execute_reply": "2023-08-24T16:49:32.977999Z",
     "shell.execute_reply.started": "2023-08-24T16:49:27.581135Z"
    }
   },
   "outputs": [],
   "source": [
    "sc = StandardScaler()\n",
    "X = sc.fit_transform(X)"
   ]
  },
  {
   "cell_type": "code",
   "execution_count": 11,
   "metadata": {
    "execution": {
     "iopub.execute_input": "2023-08-24T16:49:32.981255Z",
     "iopub.status.busy": "2023-08-24T16:49:32.980863Z",
     "iopub.status.idle": "2023-08-24T16:49:37.857114Z",
     "shell.execute_reply": "2023-08-24T16:49:37.855950Z",
     "shell.execute_reply.started": "2023-08-24T16:49:32.981217Z"
    }
   },
   "outputs": [],
   "source": [
    "X_train, X_test, y_train, y_test = train_test_split(X, y, test_size=0.2)"
   ]
  },
  {
   "cell_type": "code",
   "execution_count": 12,
   "metadata": {
    "execution": {
     "iopub.execute_input": "2023-08-24T16:49:37.859405Z",
     "iopub.status.busy": "2023-08-24T16:49:37.858712Z",
     "iopub.status.idle": "2023-08-24T16:49:37.884305Z",
     "shell.execute_reply": "2023-08-24T16:49:37.883173Z",
     "shell.execute_reply.started": "2023-08-24T16:49:37.859365Z"
    }
   },
   "outputs": [
    {
     "data": {
      "text/plain": [
       "((297960, 28, 28, 1), (74490, 28, 28, 1), (297960, 26), (74490, 26))"
      ]
     },
     "execution_count": 12,
     "metadata": {},
     "output_type": "execute_result"
    }
   ],
   "source": [
    "X_train = X_train.reshape((y_train.shape[0], 28, 28))\n",
    "X_test = X_test.reshape((y_test.shape[0], 28, 28))\n",
    "\n",
    "X_train = np.expand_dims(X_train, -1)\n",
    "X_test = np.expand_dims(X_test, -1)\n",
    "\n",
    "y_train = np.eye(26)[y_train]\n",
    "y_test = np.eye(26)[y_test]\n",
    "\n",
    "X_train.shape, X_test.shape, y_train.shape, y_test.shape"
   ]
  },
  {
   "cell_type": "code",
   "execution_count": 13,
   "metadata": {
    "execution": {
     "iopub.execute_input": "2023-08-24T16:49:37.886255Z",
     "iopub.status.busy": "2023-08-24T16:49:37.885789Z",
     "iopub.status.idle": "2023-08-24T16:49:42.189408Z",
     "shell.execute_reply": "2023-08-24T16:49:42.188334Z",
     "shell.execute_reply.started": "2023-08-24T16:49:37.886209Z"
    }
   },
   "outputs": [],
   "source": [
    "model = tf.keras.models.Sequential()\n",
    "model.add(tf.keras.layers.Input(shape=(28, 28, 1)))\n",
    "model.add(tf.keras.layers.Conv2D(filters=64, kernel_size=5, strides=(1, 1), padding=\"valid\", activation='relu'))\n",
    "model.add(tf.keras.layers.MaxPooling2D())\n",
    "model.add(tf.keras.layers.BatchNormalization())\n",
    "model.add(tf.keras.layers.Conv2D(filters=128, kernel_size=5, strides=(1, 1), padding=\"same\", activation='relu'))\n",
    "model.add(tf.keras.layers.MaxPooling2D())\n",
    "model.add(tf.keras.layers.BatchNormalization())\n",
    "model.add(tf.keras.layers.Conv2D(filters=256, kernel_size=5, strides=(1, 1), padding=\"same\", activation='relu'))\n",
    "model.add(tf.keras.layers.MaxPooling2D())\n",
    "model.add(tf.keras.layers.BatchNormalization())\n",
    "model.add(tf.keras.layers.Conv2D(filters=512, kernel_size=5, strides=(1, 1), padding=\"same\", activation='relu'))\n",
    "model.add(tf.keras.layers.MaxPooling2D())\n",
    "model.add(tf.keras.layers.BatchNormalization())\n",
    "model.add(tf.keras.layers.Dropout(0.6))\n",
    "model.add(tf.keras.layers.Flatten())\n",
    "model.add(tf.keras.layers.Dense(80, activation='relu'))\n",
    "model.add(tf.keras.layers.Dropout(0.7))\n",
    "model.add(tf.keras.layers.Dense(80, activation='relu'))\n",
    "model.add(tf.keras.layers.Dense(26, activation='softmax'))"
   ]
  },
  {
   "cell_type": "code",
   "execution_count": 14,
   "metadata": {
    "execution": {
     "iopub.execute_input": "2023-08-24T16:49:42.191366Z",
     "iopub.status.busy": "2023-08-24T16:49:42.191000Z",
     "iopub.status.idle": "2023-08-24T16:49:42.254766Z",
     "shell.execute_reply": "2023-08-24T16:49:42.253961Z",
     "shell.execute_reply.started": "2023-08-24T16:49:42.191329Z"
    }
   },
   "outputs": [
    {
     "name": "stdout",
     "output_type": "stream",
     "text": [
      "Model: \"sequential\"\n",
      "_________________________________________________________________\n",
      " Layer (type)                Output Shape              Param #   \n",
      "=================================================================\n",
      " conv2d (Conv2D)             (None, 24, 24, 64)        1664      \n",
      "                                                                 \n",
      " max_pooling2d (MaxPooling2D  (None, 12, 12, 64)       0         \n",
      " )                                                               \n",
      "                                                                 \n",
      " batch_normalization (BatchN  (None, 12, 12, 64)       256       \n",
      " ormalization)                                                   \n",
      "                                                                 \n",
      " conv2d_1 (Conv2D)           (None, 12, 12, 128)       204928    \n",
      "                                                                 \n",
      " max_pooling2d_1 (MaxPooling  (None, 6, 6, 128)        0         \n",
      " 2D)                                                             \n",
      "                                                                 \n",
      " batch_normalization_1 (Batc  (None, 6, 6, 128)        512       \n",
      " hNormalization)                                                 \n",
      "                                                                 \n",
      " conv2d_2 (Conv2D)           (None, 6, 6, 256)         819456    \n",
      "                                                                 \n",
      " max_pooling2d_2 (MaxPooling  (None, 3, 3, 256)        0         \n",
      " 2D)                                                             \n",
      "                                                                 \n",
      " batch_normalization_2 (Batc  (None, 3, 3, 256)        1024      \n",
      " hNormalization)                                                 \n",
      "                                                                 \n",
      " conv2d_3 (Conv2D)           (None, 3, 3, 512)         3277312   \n",
      "                                                                 \n",
      " max_pooling2d_3 (MaxPooling  (None, 1, 1, 512)        0         \n",
      " 2D)                                                             \n",
      "                                                                 \n",
      " batch_normalization_3 (Batc  (None, 1, 1, 512)        2048      \n",
      " hNormalization)                                                 \n",
      "                                                                 \n",
      " dropout (Dropout)           (None, 1, 1, 512)         0         \n",
      "                                                                 \n",
      " flatten (Flatten)           (None, 512)               0         \n",
      "                                                                 \n",
      " dense (Dense)               (None, 80)                41040     \n",
      "                                                                 \n",
      " dropout_1 (Dropout)         (None, 80)                0         \n",
      "                                                                 \n",
      " dense_1 (Dense)             (None, 80)                6480      \n",
      "                                                                 \n",
      " dense_2 (Dense)             (None, 26)                2106      \n",
      "                                                                 \n",
      "=================================================================\n",
      "Total params: 4,356,826\n",
      "Trainable params: 4,354,906\n",
      "Non-trainable params: 1,920\n",
      "_________________________________________________________________\n"
     ]
    }
   ],
   "source": [
    "model.summary()"
   ]
  },
  {
   "cell_type": "code",
   "execution_count": 15,
   "metadata": {
    "execution": {
     "iopub.execute_input": "2023-08-24T16:49:42.256121Z",
     "iopub.status.busy": "2023-08-24T16:49:42.255770Z",
     "iopub.status.idle": "2023-08-24T16:49:42.290526Z",
     "shell.execute_reply": "2023-08-24T16:49:42.289563Z",
     "shell.execute_reply.started": "2023-08-24T16:49:42.256087Z"
    }
   },
   "outputs": [],
   "source": [
    "model.compile(optimizer=tf.keras.optimizers.Adam(learning_rate=0.00001), loss='categorical_crossentropy', metrics=['accuracy'])"
   ]
  },
  {
   "cell_type": "code",
   "execution_count": 16,
   "metadata": {
    "execution": {
     "iopub.execute_input": "2023-08-24T16:50:29.137898Z",
     "iopub.status.busy": "2023-08-24T16:50:29.137436Z",
     "iopub.status.idle": "2023-08-24T16:50:29.143893Z",
     "shell.execute_reply": "2023-08-24T16:50:29.142722Z",
     "shell.execute_reply.started": "2023-08-24T16:50:29.137862Z"
    }
   },
   "outputs": [],
   "source": [
    "callback = tf.keras.callbacks.EarlyStopping(min_delta=0.001, patience=3, verbose=1)"
   ]
  },
  {
   "cell_type": "code",
   "execution_count": 17,
   "metadata": {
    "execution": {
     "iopub.execute_input": "2023-08-24T16:50:47.272518Z",
     "iopub.status.busy": "2023-08-24T16:50:47.271327Z",
     "iopub.status.idle": "2023-08-24T17:28:12.759707Z",
     "shell.execute_reply": "2023-08-24T17:28:12.758224Z",
     "shell.execute_reply.started": "2023-08-24T16:50:47.272468Z"
    }
   },
   "outputs": [
    {
     "name": "stdout",
     "output_type": "stream",
     "text": [
      "Epoch 1/20\n"
     ]
    },
    {
     "name": "stderr",
     "output_type": "stream",
     "text": [
      "2023-08-24 16:50:50.667090: E tensorflow/core/grappler/optimizers/meta_optimizer.cc:954] layout failed: INVALID_ARGUMENT: Size of values 0 does not match size of permutation 4 @ fanin shape insequential/dropout/dropout/SelectV2-2-TransposeNHWCToNCHW-LayoutOptimizer\n"
     ]
    },
    {
     "name": "stdout",
     "output_type": "stream",
     "text": [
      "7449/7449 [==============================] - 126s 15ms/step - loss: 1.9769 - accuracy: 0.4785 - val_loss: 0.4875 - val_accuracy: 0.9046\n",
      "Epoch 2/20\n",
      "7449/7449 [==============================] - 110s 15ms/step - loss: 0.9588 - accuracy: 0.7195 - val_loss: 0.2690 - val_accuracy: 0.9424\n",
      "Epoch 3/20\n",
      "7449/7449 [==============================] - 108s 14ms/step - loss: 0.6783 - accuracy: 0.7988 - val_loss: 0.1460 - val_accuracy: 0.9649\n",
      "Epoch 4/20\n",
      "7449/7449 [==============================] - 108s 15ms/step - loss: 0.5282 - accuracy: 0.8430 - val_loss: 0.1289 - val_accuracy: 0.9688\n",
      "Epoch 5/20\n",
      "7449/7449 [==============================] - 110s 15ms/step - loss: 0.4410 - accuracy: 0.8677 - val_loss: 0.0922 - val_accuracy: 0.9774\n",
      "Epoch 6/20\n",
      "7449/7449 [==============================] - 110s 15ms/step - loss: 0.3755 - accuracy: 0.8872 - val_loss: 0.0854 - val_accuracy: 0.9793\n",
      "Epoch 7/20\n",
      "7449/7449 [==============================] - 110s 15ms/step - loss: 0.3331 - accuracy: 0.8996 - val_loss: 0.0765 - val_accuracy: 0.9810\n",
      "Epoch 8/20\n",
      "7449/7449 [==============================] - 110s 15ms/step - loss: 0.2947 - accuracy: 0.9111 - val_loss: 0.0657 - val_accuracy: 0.9846\n",
      "Epoch 9/20\n",
      "7449/7449 [==============================] - 110s 15ms/step - loss: 0.2691 - accuracy: 0.9191 - val_loss: 0.0732 - val_accuracy: 0.9826\n",
      "Epoch 10/20\n",
      "7449/7449 [==============================] - 108s 14ms/step - loss: 0.2495 - accuracy: 0.9249 - val_loss: 0.0597 - val_accuracy: 0.9864\n",
      "Epoch 11/20\n",
      "7449/7449 [==============================] - 107s 14ms/step - loss: 0.2293 - accuracy: 0.9313 - val_loss: 0.0561 - val_accuracy: 0.9872\n",
      "Epoch 12/20\n",
      "7449/7449 [==============================] - 110s 15ms/step - loss: 0.2113 - accuracy: 0.9356 - val_loss: 0.0540 - val_accuracy: 0.9883\n",
      "Epoch 13/20\n",
      "7449/7449 [==============================] - 107s 14ms/step - loss: 0.2006 - accuracy: 0.9397 - val_loss: 0.0557 - val_accuracy: 0.9878\n",
      "Epoch 14/20\n",
      "7449/7449 [==============================] - 107s 14ms/step - loss: 0.1875 - accuracy: 0.9434 - val_loss: 0.0487 - val_accuracy: 0.9893\n",
      "Epoch 15/20\n",
      "7449/7449 [==============================] - 108s 14ms/step - loss: 0.1776 - accuracy: 0.9463 - val_loss: 0.0517 - val_accuracy: 0.9879\n",
      "Epoch 16/20\n",
      "7449/7449 [==============================] - 110s 15ms/step - loss: 0.1680 - accuracy: 0.9491 - val_loss: 0.0484 - val_accuracy: 0.9895\n",
      "Epoch 17/20\n",
      "7449/7449 [==============================] - 110s 15ms/step - loss: 0.1576 - accuracy: 0.9520 - val_loss: 0.0463 - val_accuracy: 0.9900\n",
      "Epoch 18/20\n",
      "7449/7449 [==============================] - 107s 14ms/step - loss: 0.1484 - accuracy: 0.9547 - val_loss: 0.0473 - val_accuracy: 0.9899\n",
      "Epoch 19/20\n",
      "7449/7449 [==============================] - 110s 15ms/step - loss: 0.1411 - accuracy: 0.9569 - val_loss: 0.0435 - val_accuracy: 0.9909\n",
      "Epoch 20/20\n",
      "7449/7449 [==============================] - 110s 15ms/step - loss: 0.1365 - accuracy: 0.9577 - val_loss: 0.0484 - val_accuracy: 0.9889\n"
     ]
    },
    {
     "data": {
      "text/plain": [
       "<keras.callbacks.History at 0x7d3fee0292a0>"
      ]
     },
     "execution_count": 17,
     "metadata": {},
     "output_type": "execute_result"
    }
   ],
   "source": [
    "model.fit(X_train, y_train, validation_split=0.2, epochs=20, callbacks=[callback])"
   ]
  },
  {
   "cell_type": "code",
   "execution_count": 18,
   "metadata": {
    "execution": {
     "iopub.execute_input": "2023-08-24T17:36:58.918516Z",
     "iopub.status.busy": "2023-08-24T17:36:58.918096Z",
     "iopub.status.idle": "2023-08-24T17:36:59.130333Z",
     "shell.execute_reply": "2023-08-24T17:36:59.129218Z",
     "shell.execute_reply.started": "2023-08-24T17:36:58.918481Z"
    }
   },
   "outputs": [],
   "source": [
    "model.save(\"model.h5\")"
   ]
  },
  {
   "cell_type": "code",
   "execution_count": 4,
   "metadata": {},
   "outputs": [],
   "source": [
    "model = tf.keras.models.load_model(\"./model.h5\")"
   ]
  },
  {
   "cell_type": "code",
   "execution_count": 19,
   "metadata": {
    "execution": {
     "iopub.execute_input": "2023-08-24T17:37:40.065563Z",
     "iopub.status.busy": "2023-08-24T17:37:40.065157Z",
     "iopub.status.idle": "2023-08-24T17:37:49.661652Z",
     "shell.execute_reply": "2023-08-24T17:37:49.660405Z",
     "shell.execute_reply.started": "2023-08-24T17:37:40.065529Z"
    }
   },
   "outputs": [
    {
     "name": "stdout",
     "output_type": "stream",
     "text": [
      "2328/2328 [==============================] - 8s 3ms/step\n"
     ]
    }
   ],
   "source": [
    "y_pred = model.predict(X_test)"
   ]
  },
  {
   "cell_type": "code",
   "execution_count": 23,
   "metadata": {
    "execution": {
     "iopub.execute_input": "2023-08-24T17:38:46.332631Z",
     "iopub.status.busy": "2023-08-24T17:38:46.331588Z",
     "iopub.status.idle": "2023-08-24T17:38:46.343967Z",
     "shell.execute_reply": "2023-08-24T17:38:46.342796Z",
     "shell.execute_reply.started": "2023-08-24T17:38:46.332589Z"
    }
   },
   "outputs": [],
   "source": [
    "predictions = np.argmax(y_pred, axis=1)"
   ]
  },
  {
   "cell_type": "code",
   "execution_count": null,
   "metadata": {},
   "outputs": [],
   "source": [
    "predictions = np.eye(26)[predictions]"
   ]
  },
  {
   "cell_type": "code",
   "execution_count": 36,
   "metadata": {
    "execution": {
     "iopub.execute_input": "2023-08-24T17:44:42.888735Z",
     "iopub.status.busy": "2023-08-24T17:44:42.888342Z",
     "iopub.status.idle": "2023-08-24T17:44:42.902294Z",
     "shell.execute_reply": "2023-08-24T17:44:42.900804Z",
     "shell.execute_reply.started": "2023-08-24T17:44:42.888703Z"
    }
   },
   "outputs": [
    {
     "data": {
      "text/plain": [
       "array([[-4.33509756e-11, -6.68272548e-10, -4.76785209e-11, ...,\n",
       "        -2.57605604e-10, -3.73973491e-10, -1.42611156e-09],\n",
       "       [-1.05627018e-09, -4.57697311e-08, -4.27328839e-10, ...,\n",
       "        -1.33436015e-06, -1.24016921e-08, -1.70370218e-09],\n",
       "       [-6.60345834e-10, -6.27864516e-09, -6.52100809e-08, ...,\n",
       "        -6.53377885e-09, -5.38916733e-09, -3.47194010e-11],\n",
       "       ...,\n",
       "       [-6.20237038e-15, -2.47522187e-14, -4.97613652e-11, ...,\n",
       "        -9.21151905e-11, -1.65031411e-09, -8.13530310e-09],\n",
       "       [-6.02462958e-12, -6.18925089e-09, -3.04957752e-12, ...,\n",
       "        -1.30080522e-07, -2.33040309e-10, -1.60982842e-11],\n",
       "       [-3.23204241e-16, -4.36352018e-13, -1.29438323e-14, ...,\n",
       "        -2.27278482e-13, -7.40733294e-14, -1.15702131e-12]])"
      ]
     },
     "execution_count": 36,
     "metadata": {},
     "output_type": "execute_result"
    }
   ],
   "source": [
    "diff = y_test - y_pred\n",
    "diff"
   ]
  },
  {
   "cell_type": "code",
   "execution_count": 37,
   "metadata": {
    "execution": {
     "iopub.execute_input": "2023-08-24T17:45:21.425785Z",
     "iopub.status.busy": "2023-08-24T17:45:21.425356Z",
     "iopub.status.idle": "2023-08-24T17:45:33.150405Z",
     "shell.execute_reply": "2023-08-24T17:45:33.148964Z",
     "shell.execute_reply.started": "2023-08-24T17:45:21.425727Z"
    }
   },
   "outputs": [
    {
     "name": "stdout",
     "output_type": "stream",
     "text": [
      "2328/2328 [==============================] - 11s 5ms/step - loss: 0.0499 - accuracy: 0.9887\n"
     ]
    },
    {
     "data": {
      "text/plain": [
       "[0.04987518489360809, 0.9887367486953735]"
      ]
     },
     "execution_count": 37,
     "metadata": {},
     "output_type": "execute_result"
    }
   ],
   "source": [
    "model.evaluate(X_test, y_test)"
   ]
  },
  {
   "cell_type": "code",
   "execution_count": 5,
   "metadata": {},
   "outputs": [],
   "source": [
    "import cv2"
   ]
  },
  {
   "cell_type": "code",
   "execution_count": 36,
   "metadata": {},
   "outputs": [
    {
     "data": {
      "text/plain": [
       "(502, 506, 3)"
      ]
     },
     "execution_count": 36,
     "metadata": {},
     "output_type": "execute_result"
    }
   ],
   "source": [
    "image = cv2.imread(\"./M_IMG.jpeg\")\n",
    "image.shape"
   ]
  },
  {
   "cell_type": "code",
   "execution_count": 37,
   "metadata": {},
   "outputs": [
    {
     "data": {
      "image/png": "[encoded data removed]",
      "text/plain": [
       "<Figure size 640x480 with 1 Axes>"
      ]
     },
     "metadata": {},
     "output_type": "display_data"
    }
   ],
   "source": [
    "image = cv2.cvtColor(image, cv2.COLOR_BGR2GRAY)\n",
    "image = cv2.resize(image, (28, 28))\n",
    "plt.imshow(image)\n",
    "image = np.expand_dims(image, -1)\n",
    "image = np.expand_dims(image, 0)"
   ]
  },
  {
   "cell_type": "code",
   "execution_count": 32,
   "metadata": {},
   "outputs": [
    {
     "data": {
      "text/plain": [
       "(1, 28, 28, 1)"
      ]
     },
     "execution_count": 32,
     "metadata": {},
     "output_type": "execute_result"
    }
   ],
   "source": [
    "image.shape"
   ]
  },
  {
   "cell_type": "code",
   "execution_count": 33,
   "metadata": {},
   "outputs": [
    {
     "name": "stdout",
     "output_type": "stream",
     "text": [
      "1/1 [==============================] - 0s 32ms/step\n"
     ]
    }
   ],
   "source": [
    "pred = model.predict(image)"
   ]
  },
  {
   "cell_type": "code",
   "execution_count": 34,
   "metadata": {},
   "outputs": [
    {
     "data": {
      "text/plain": [
       "array([9], dtype=int64)"
      ]
     },
     "execution_count": 34,
     "metadata": {},
     "output_type": "execute_result"
    }
   ],
   "source": [
    "np.argmax(pred, axis=1)"
   ]
  }
 ],
 "metadata": {
  "kernelspec": {
   "display_name": "Python 3 (ipykernel)",
   "language": "python",
   "name": "python3"
  },
  "language_info": {
   "codemirror_mode": {
    "name": "ipython",
    "version": 3
   },
   "file_extension": ".py",
   "mimetype": "text/x-python",
   "name": "python",
   "nbconvert_exporter": "python",
   "pygments_lexer": "ipython3",
   "version": "3.9.13"
  }
 },
 "nbformat": 4,
 "nbformat_minor": 4
}
