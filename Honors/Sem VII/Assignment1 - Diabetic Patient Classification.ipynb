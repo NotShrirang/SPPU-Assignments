{
 "cells": [
  {
   "cell_type": "markdown",
   "metadata": {},
   "source": [
    "# Assignment 1"
   ]
  },
  {
   "cell_type": "code",
   "execution_count": null,
   "metadata": {},
   "outputs": [],
   "source": [
    "import tensorflow as tf\n",
    "import pandas as pd\n",
    "import numpy as np\n",
    "import seaborn as sns\n",
    "import matplotlib.pyplot as plt\n",
    "from sklearn.model_selection import train_test_split\n",
    "from sklearn.metrics import classification_report, confusion_matrix\n",
    "from sklearn.preprocessing import StandardScaler\n",
    "from imblearn.over_sampling import SMOTE\n",
    "from ann_visualizer.visualize import ann_viz"
   ]
  },
  {
   "cell_type": "markdown",
   "metadata": {},
   "source": [
    "### Dataset: https://www.kaggle.com/datasets/uciml/pima-indians-diabetes-database"
   ]
  },
  {
   "cell_type": "code",
   "execution_count": 2,
   "metadata": {},
   "outputs": [
    {
     "data": {
      "text/html": [
       "<div>\n",
       "<style scoped>\n",
       "    .dataframe tbody tr th:only-of-type {\n",
       "        vertical-align: middle;\n",
       "    }\n",
       "\n",
       "    .dataframe tbody tr th {\n",
       "        vertical-align: top;\n",
       "    }\n",
       "\n",
       "    .dataframe thead th {\n",
       "        text-align: right;\n",
       "    }\n",
       "</style>\n",
       "<table border=\"1\" class=\"dataframe\">\n",
       "  <thead>\n",
       "    <tr style=\"text-align: right;\">\n",
       "      <th></th>\n",
       "      <th>Pregnancies</th>\n",
       "      <th>Glucose</th>\n",
       "      <th>BloodPressure</th>\n",
       "      <th>SkinThickness</th>\n",
       "      <th>Insulin</th>\n",
       "      <th>BMI</th>\n",
       "      <th>DiabetesPedigreeFunction</th>\n",
       "      <th>Age</th>\n",
       "      <th>Outcome</th>\n",
       "    </tr>\n",
       "  </thead>\n",
       "  <tbody>\n",
       "    <tr>\n",
       "      <th>0</th>\n",
       "      <td>6</td>\n",
       "      <td>148</td>\n",
       "      <td>72</td>\n",
       "      <td>35</td>\n",
       "      <td>0</td>\n",
       "      <td>33.6</td>\n",
       "      <td>0.627</td>\n",
       "      <td>50</td>\n",
       "      <td>1</td>\n",
       "    </tr>\n",
       "    <tr>\n",
       "      <th>1</th>\n",
       "      <td>1</td>\n",
       "      <td>85</td>\n",
       "      <td>66</td>\n",
       "      <td>29</td>\n",
       "      <td>0</td>\n",
       "      <td>26.6</td>\n",
       "      <td>0.351</td>\n",
       "      <td>31</td>\n",
       "      <td>0</td>\n",
       "    </tr>\n",
       "    <tr>\n",
       "      <th>2</th>\n",
       "      <td>8</td>\n",
       "      <td>183</td>\n",
       "      <td>64</td>\n",
       "      <td>0</td>\n",
       "      <td>0</td>\n",
       "      <td>23.3</td>\n",
       "      <td>0.672</td>\n",
       "      <td>32</td>\n",
       "      <td>1</td>\n",
       "    </tr>\n",
       "    <tr>\n",
       "      <th>3</th>\n",
       "      <td>1</td>\n",
       "      <td>89</td>\n",
       "      <td>66</td>\n",
       "      <td>23</td>\n",
       "      <td>94</td>\n",
       "      <td>28.1</td>\n",
       "      <td>0.167</td>\n",
       "      <td>21</td>\n",
       "      <td>0</td>\n",
       "    </tr>\n",
       "    <tr>\n",
       "      <th>4</th>\n",
       "      <td>0</td>\n",
       "      <td>137</td>\n",
       "      <td>40</td>\n",
       "      <td>35</td>\n",
       "      <td>168</td>\n",
       "      <td>43.1</td>\n",
       "      <td>2.288</td>\n",
       "      <td>33</td>\n",
       "      <td>1</td>\n",
       "    </tr>\n",
       "  </tbody>\n",
       "</table>\n",
       "</div>"
      ],
      "text/plain": [
       "   Pregnancies  Glucose  BloodPressure  SkinThickness  Insulin   BMI  \\\n",
       "0            6      148             72             35        0  33.6   \n",
       "1            1       85             66             29        0  26.6   \n",
       "2            8      183             64              0        0  23.3   \n",
       "3            1       89             66             23       94  28.1   \n",
       "4            0      137             40             35      168  43.1   \n",
       "\n",
       "   DiabetesPedigreeFunction  Age  Outcome  \n",
       "0                     0.627   50        1  \n",
       "1                     0.351   31        0  \n",
       "2                     0.672   32        1  \n",
       "3                     0.167   21        0  \n",
       "4                     2.288   33        1  "
      ]
     },
     "execution_count": 2,
     "metadata": {},
     "output_type": "execute_result"
    }
   ],
   "source": [
    "data = pd.read_csv(\"./diabetes.csv\")\n",
    "data.head()"
   ]
  },
  {
   "cell_type": "code",
   "execution_count": 3,
   "metadata": {},
   "outputs": [
    {
     "name": "stdout",
     "output_type": "stream",
     "text": [
      "<class 'pandas.core.frame.DataFrame'>\n",
      "RangeIndex: 768 entries, 0 to 767\n",
      "Data columns (total 9 columns):\n",
      " #   Column                    Non-Null Count  Dtype  \n",
      "---  ------                    --------------  -----  \n",
      " 0   Pregnancies               768 non-null    int64  \n",
      " 1   Glucose                   768 non-null    int64  \n",
      " 2   BloodPressure             768 non-null    int64  \n",
      " 3   SkinThickness             768 non-null    int64  \n",
      " 4   Insulin                   768 non-null    int64  \n",
      " 5   BMI                       768 non-null    float64\n",
      " 6   DiabetesPedigreeFunction  768 non-null    float64\n",
      " 7   Age                       768 non-null    int64  \n",
      " 8   Outcome                   768 non-null    int64  \n",
      "dtypes: float64(2), int64(7)\n",
      "memory usage: 54.1 KB\n"
     ]
    }
   ],
   "source": [
    "data.info()"
   ]
  },
  {
   "cell_type": "code",
   "execution_count": 4,
   "metadata": {},
   "outputs": [
    {
     "data": {
      "text/plain": [
       "0    500\n",
       "1    268\n",
       "Name: Outcome, dtype: int64"
      ]
     },
     "execution_count": 4,
     "metadata": {},
     "output_type": "execute_result"
    }
   ],
   "source": [
    "data['Outcome'].value_counts()"
   ]
  },
  {
   "cell_type": "code",
   "execution_count": 5,
   "metadata": {},
   "outputs": [],
   "source": [
    "X = data.drop('Outcome', axis=1)\n",
    "y = data['Outcome']"
   ]
  },
  {
   "cell_type": "code",
   "execution_count": 6,
   "metadata": {},
   "outputs": [],
   "source": [
    "sm = SMOTE(sampling_strategy='minority', random_state=42)"
   ]
  },
  {
   "cell_type": "code",
   "execution_count": 7,
   "metadata": {},
   "outputs": [],
   "source": [
    "oversampled_X, oversampled_Y = sm.fit_resample(X, y)"
   ]
  },
  {
   "cell_type": "code",
   "execution_count": 8,
   "metadata": {},
   "outputs": [],
   "source": [
    "sc = StandardScaler()\n",
    "oversampled_X = sc.fit_transform(oversampled_X)"
   ]
  },
  {
   "cell_type": "code",
   "execution_count": 9,
   "metadata": {},
   "outputs": [],
   "source": [
    "x_train, x_test, y_train, y_test = train_test_split(oversampled_X, oversampled_Y, test_size=0.2)"
   ]
  },
  {
   "cell_type": "code",
   "execution_count": 10,
   "metadata": {},
   "outputs": [
    {
     "data": {
      "text/plain": [
       "((800, 8), (200, 8), (800,), (200,))"
      ]
     },
     "execution_count": 10,
     "metadata": {},
     "output_type": "execute_result"
    }
   ],
   "source": [
    "x_train.shape, x_test.shape, y_train.shape, y_test.shape"
   ]
  },
  {
   "cell_type": "code",
   "execution_count": 11,
   "metadata": {},
   "outputs": [
    {
     "data": {
      "text/plain": [
       "(array([0, 1], dtype=int64), array([403, 397], dtype=int64))"
      ]
     },
     "execution_count": 11,
     "metadata": {},
     "output_type": "execute_result"
    }
   ],
   "source": [
    "np.unique(y_train, return_counts=True)"
   ]
  },
  {
   "cell_type": "code",
   "execution_count": 12,
   "metadata": {},
   "outputs": [],
   "source": [
    "epochs = 50"
   ]
  },
  {
   "cell_type": "markdown",
   "metadata": {},
   "source": [
    "## Model without upsampling"
   ]
  },
  {
   "cell_type": "code",
   "execution_count": 13,
   "metadata": {},
   "outputs": [],
   "source": [
    "model2 = tf.keras.models.Sequential()\n",
    "model2.add(tf.keras.layers.Dense(8, input_shape=(8,)))\n",
    "model2.add(tf.keras.layers.Dense(64, activation='relu'))\n",
    "model2.add(tf.keras.layers.Dense(128, activation='relu'))\n",
    "model2.add(tf.keras.layers.Dense(128, activation='relu'))\n",
    "model2.add(tf.keras.layers.Dense(64, activation='relu'))\n",
    "model2.add(tf.keras.layers.Dense(1, activation='sigmoid'))"
   ]
  },
  {
   "cell_type": "code",
   "execution_count": 14,
   "metadata": {},
   "outputs": [],
   "source": [
    "model2.compile(loss='binary_crossentropy', optimizer=tf.keras.optimizers.Adam(learning_rate=0.0001), metrics=['accuracy'])"
   ]
  },
  {
   "cell_type": "code",
   "execution_count": 15,
   "metadata": {},
   "outputs": [
    {
     "name": "stdout",
     "output_type": "stream",
     "text": [
      "Epoch 1/50\n",
      "20/20 [==============================] - 1s 11ms/step - loss: 1.1225 - accuracy: 0.5391 - val_loss: 0.8402 - val_accuracy: 0.5584\n",
      "Epoch 2/50\n",
      "20/20 [==============================] - 0s 3ms/step - loss: 0.6954 - accuracy: 0.6287 - val_loss: 0.7926 - val_accuracy: 0.4805\n",
      "Epoch 3/50\n",
      "20/20 [==============================] - 0s 4ms/step - loss: 0.6660 - accuracy: 0.6417 - val_loss: 0.7973 - val_accuracy: 0.6104\n",
      "Epoch 4/50\n",
      "20/20 [==============================] - 0s 4ms/step - loss: 0.6592 - accuracy: 0.6759 - val_loss: 0.7457 - val_accuracy: 0.5130\n",
      "Epoch 5/50\n",
      "20/20 [==============================] - 0s 4ms/step - loss: 0.6400 - accuracy: 0.6564 - val_loss: 0.7507 - val_accuracy: 0.5519\n",
      "Epoch 6/50\n",
      "20/20 [==============================] - 0s 3ms/step - loss: 0.6483 - accuracy: 0.6547 - val_loss: 0.7789 - val_accuracy: 0.5000\n",
      "Epoch 7/50\n",
      "20/20 [==============================] - 0s 3ms/step - loss: 0.6068 - accuracy: 0.6808 - val_loss: 0.7223 - val_accuracy: 0.5974\n",
      "Epoch 8/50\n",
      "20/20 [==============================] - 0s 3ms/step - loss: 0.5998 - accuracy: 0.6857 - val_loss: 0.7507 - val_accuracy: 0.5065\n",
      "Epoch 9/50\n",
      "20/20 [==============================] - 0s 3ms/step - loss: 0.6113 - accuracy: 0.6759 - val_loss: 0.7575 - val_accuracy: 0.5390\n",
      "Epoch 10/50\n",
      "20/20 [==============================] - 0s 3ms/step - loss: 0.7303 - accuracy: 0.6743 - val_loss: 0.8009 - val_accuracy: 0.5065\n",
      "Epoch 11/50\n",
      "20/20 [==============================] - 0s 3ms/step - loss: 0.6384 - accuracy: 0.6580 - val_loss: 0.7061 - val_accuracy: 0.6234\n",
      "Epoch 12/50\n",
      "20/20 [==============================] - 0s 5ms/step - loss: 0.6281 - accuracy: 0.6922 - val_loss: 0.7102 - val_accuracy: 0.6299\n",
      "Epoch 13/50\n",
      "20/20 [==============================] - 0s 3ms/step - loss: 0.5658 - accuracy: 0.7052 - val_loss: 0.7029 - val_accuracy: 0.6299\n",
      "Epoch 14/50\n",
      "20/20 [==============================] - 0s 3ms/step - loss: 0.5641 - accuracy: 0.6987 - val_loss: 0.6869 - val_accuracy: 0.5649\n",
      "Epoch 15/50\n",
      "20/20 [==============================] - 0s 3ms/step - loss: 0.5899 - accuracy: 0.6824 - val_loss: 0.7144 - val_accuracy: 0.6364\n",
      "Epoch 16/50\n",
      "20/20 [==============================] - 0s 3ms/step - loss: 0.5543 - accuracy: 0.7264 - val_loss: 0.6588 - val_accuracy: 0.6494\n",
      "Epoch 17/50\n",
      "20/20 [==============================] - 0s 3ms/step - loss: 0.5496 - accuracy: 0.7215 - val_loss: 0.6861 - val_accuracy: 0.6299\n",
      "Epoch 18/50\n",
      "20/20 [==============================] - 0s 3ms/step - loss: 0.5682 - accuracy: 0.6987 - val_loss: 0.6535 - val_accuracy: 0.6494\n",
      "Epoch 19/50\n",
      "20/20 [==============================] - 0s 3ms/step - loss: 0.5421 - accuracy: 0.7199 - val_loss: 0.6521 - val_accuracy: 0.6623\n",
      "Epoch 20/50\n",
      "20/20 [==============================] - 0s 3ms/step - loss: 0.5634 - accuracy: 0.6938 - val_loss: 0.6907 - val_accuracy: 0.5714\n",
      "Epoch 21/50\n",
      "20/20 [==============================] - 0s 3ms/step - loss: 0.5818 - accuracy: 0.6873 - val_loss: 0.6542 - val_accuracy: 0.6364\n",
      "Epoch 22/50\n",
      "20/20 [==============================] - 0s 3ms/step - loss: 0.5513 - accuracy: 0.7085 - val_loss: 0.6391 - val_accuracy: 0.6623\n",
      "Epoch 23/50\n",
      "20/20 [==============================] - 0s 3ms/step - loss: 0.5420 - accuracy: 0.7280 - val_loss: 0.6425 - val_accuracy: 0.6429\n",
      "Epoch 24/50\n",
      "20/20 [==============================] - 0s 3ms/step - loss: 0.5451 - accuracy: 0.7182 - val_loss: 0.6431 - val_accuracy: 0.6429\n",
      "Epoch 25/50\n",
      "20/20 [==============================] - 0s 4ms/step - loss: 0.5354 - accuracy: 0.7248 - val_loss: 0.6708 - val_accuracy: 0.6558\n",
      "Epoch 26/50\n",
      "20/20 [==============================] - 0s 3ms/step - loss: 0.5665 - accuracy: 0.6889 - val_loss: 0.6608 - val_accuracy: 0.6169\n",
      "Epoch 27/50\n",
      "20/20 [==============================] - 0s 3ms/step - loss: 0.5495 - accuracy: 0.7199 - val_loss: 0.6595 - val_accuracy: 0.6494\n",
      "Epoch 28/50\n",
      "20/20 [==============================] - 0s 3ms/step - loss: 0.5505 - accuracy: 0.7248 - val_loss: 0.7057 - val_accuracy: 0.5779\n",
      "Epoch 29/50\n",
      "20/20 [==============================] - 0s 3ms/step - loss: 0.5484 - accuracy: 0.7068 - val_loss: 0.6471 - val_accuracy: 0.6364\n",
      "Epoch 30/50\n",
      "20/20 [==============================] - 0s 3ms/step - loss: 0.5314 - accuracy: 0.7215 - val_loss: 0.6340 - val_accuracy: 0.6948\n",
      "Epoch 31/50\n",
      "20/20 [==============================] - 0s 3ms/step - loss: 0.5231 - accuracy: 0.7345 - val_loss: 0.6226 - val_accuracy: 0.6623\n",
      "Epoch 32/50\n",
      "20/20 [==============================] - 0s 3ms/step - loss: 0.5348 - accuracy: 0.7476 - val_loss: 0.6275 - val_accuracy: 0.6623\n",
      "Epoch 33/50\n",
      "20/20 [==============================] - 0s 3ms/step - loss: 0.5488 - accuracy: 0.7085 - val_loss: 0.6250 - val_accuracy: 0.6883\n",
      "Epoch 34/50\n",
      "20/20 [==============================] - 0s 3ms/step - loss: 0.5525 - accuracy: 0.7329 - val_loss: 0.6306 - val_accuracy: 0.6688\n",
      "Epoch 35/50\n",
      "20/20 [==============================] - 0s 3ms/step - loss: 0.5273 - accuracy: 0.7362 - val_loss: 0.6354 - val_accuracy: 0.6494\n",
      "Epoch 36/50\n",
      "20/20 [==============================] - 0s 5ms/step - loss: 0.5379 - accuracy: 0.7117 - val_loss: 0.6273 - val_accuracy: 0.6753\n",
      "Epoch 37/50\n",
      "20/20 [==============================] - 0s 3ms/step - loss: 0.5861 - accuracy: 0.6987 - val_loss: 0.6324 - val_accuracy: 0.6688\n",
      "Epoch 38/50\n",
      "20/20 [==============================] - 0s 3ms/step - loss: 0.5697 - accuracy: 0.7068 - val_loss: 0.6494 - val_accuracy: 0.6558\n",
      "Epoch 39/50\n",
      "20/20 [==============================] - 0s 3ms/step - loss: 0.5178 - accuracy: 0.7378 - val_loss: 0.6341 - val_accuracy: 0.6688\n",
      "Epoch 40/50\n",
      "20/20 [==============================] - 0s 3ms/step - loss: 0.5208 - accuracy: 0.7313 - val_loss: 0.6494 - val_accuracy: 0.6429\n",
      "Epoch 41/50\n",
      "20/20 [==============================] - 0s 3ms/step - loss: 0.5167 - accuracy: 0.7427 - val_loss: 0.6360 - val_accuracy: 0.6818\n",
      "Epoch 42/50\n",
      "20/20 [==============================] - 0s 3ms/step - loss: 0.5090 - accuracy: 0.7557 - val_loss: 0.6191 - val_accuracy: 0.6753\n",
      "Epoch 43/50\n",
      "20/20 [==============================] - 0s 3ms/step - loss: 0.5090 - accuracy: 0.7590 - val_loss: 0.6203 - val_accuracy: 0.6688\n",
      "Epoch 44/50\n",
      "20/20 [==============================] - 0s 3ms/step - loss: 0.5260 - accuracy: 0.7329 - val_loss: 0.6266 - val_accuracy: 0.6818\n",
      "Epoch 45/50\n",
      "20/20 [==============================] - 0s 3ms/step - loss: 0.5261 - accuracy: 0.7280 - val_loss: 0.6272 - val_accuracy: 0.6753\n",
      "Epoch 46/50\n",
      "20/20 [==============================] - 0s 3ms/step - loss: 0.5149 - accuracy: 0.7427 - val_loss: 0.6183 - val_accuracy: 0.6623\n",
      "Epoch 47/50\n",
      "20/20 [==============================] - 0s 3ms/step - loss: 0.5157 - accuracy: 0.7476 - val_loss: 0.6226 - val_accuracy: 0.6818\n",
      "Epoch 48/50\n",
      "20/20 [==============================] - 0s 3ms/step - loss: 0.5044 - accuracy: 0.7622 - val_loss: 0.6160 - val_accuracy: 0.6688\n",
      "Epoch 49/50\n",
      "20/20 [==============================] - 0s 3ms/step - loss: 0.5075 - accuracy: 0.7557 - val_loss: 0.6072 - val_accuracy: 0.7013\n",
      "Epoch 50/50\n",
      "20/20 [==============================] - 0s 3ms/step - loss: 0.5072 - accuracy: 0.7459 - val_loss: 0.6883 - val_accuracy: 0.6104\n"
     ]
    }
   ],
   "source": [
    "history = model2.fit(X, y, \n",
    "                    validation_split=0.2,\n",
    "#                     validation_data=(x_test, y_test), \n",
    "                    epochs=epochs)"
   ]
  },
  {
   "cell_type": "code",
   "execution_count": 16,
   "metadata": {
    "scrolled": false
   },
   "outputs": [
    {
     "data": {
      "text/plain": [
       "[<matplotlib.lines.Line2D at 0x1a9d1bed370>]"
      ]
     },
     "execution_count": 16,
     "metadata": {},
     "output_type": "execute_result"
    },
    {
     "data": {
      "image/png": "[encoded data removed]",
      "text/plain": [
       "<Figure size 640x480 with 1 Axes>"
      ]
     },
     "metadata": {},
     "output_type": "display_data"
    }
   ],
   "source": [
    "plt.plot(range(epochs), history.history['accuracy'])\n",
    "plt.plot(range(epochs), history.history['val_accuracy'])"
   ]
  },
  {
   "cell_type": "markdown",
   "metadata": {},
   "source": [
    "## Model with upsampled data"
   ]
  },
  {
   "cell_type": "code",
   "execution_count": 33,
   "metadata": {},
   "outputs": [],
   "source": [
    "model = tf.keras.models.Sequential()\n",
    "model.add(tf.keras.layers.Dense(8, input_shape=(8,)))\n",
    "model.add(tf.keras.layers.Dense(64, activation='relu'))\n",
    "model.add(tf.keras.layers.Dense(128, activation='relu'))\n",
    "model.add(tf.keras.layers.Dense(128, activation='relu'))\n",
    "model.add(tf.keras.layers.Dense(64, activation='relu'))\n",
    "model.add(tf.keras.layers.Dense(1, activation='sigmoid'))"
   ]
  },
  {
   "cell_type": "code",
   "execution_count": 34,
   "metadata": {},
   "outputs": [
    {
     "name": "stdout",
     "output_type": "stream",
     "text": [
      "Model: \"sequential_3\"\n",
      "_________________________________________________________________\n",
      " Layer (type)                Output Shape              Param #   \n",
      "=================================================================\n",
      " dense_18 (Dense)            (None, 8)                 72        \n",
      "                                                                 \n",
      " dense_19 (Dense)            (None, 64)                576       \n",
      "                                                                 \n",
      " dense_20 (Dense)            (None, 128)               8320      \n",
      "                                                                 \n",
      " dense_21 (Dense)            (None, 128)               16512     \n",
      "                                                                 \n",
      " dense_22 (Dense)            (None, 64)                8256      \n",
      "                                                                 \n",
      " dense_23 (Dense)            (None, 1)                 65        \n",
      "                                                                 \n",
      "=================================================================\n",
      "Total params: 33801 (132.04 KB)\n",
      "Trainable params: 33801 (132.04 KB)\n",
      "Non-trainable params: 0 (0.00 Byte)\n",
      "_________________________________________________________________\n"
     ]
    }
   ],
   "source": [
    "model.summary()"
   ]
  },
  {
   "cell_type": "code",
   "execution_count": 35,
   "metadata": {},
   "outputs": [],
   "source": [
    "model.compile(loss='binary_crossentropy', optimizer=tf.keras.optimizers.Adam(learning_rate=0.00005), metrics=['accuracy'])"
   ]
  },
  {
   "cell_type": "code",
   "execution_count": 36,
   "metadata": {},
   "outputs": [
    {
     "name": "stdout",
     "output_type": "stream",
     "text": [
      "Epoch 1/50\n",
      "20/20 [==============================] - 1s 8ms/step - loss: 0.6952 - accuracy: 0.5125 - val_loss: 0.6881 - val_accuracy: 0.5625\n",
      "Epoch 2/50\n",
      "20/20 [==============================] - 0s 3ms/step - loss: 0.6874 - accuracy: 0.5797 - val_loss: 0.6813 - val_accuracy: 0.6500\n",
      "Epoch 3/50\n",
      "20/20 [==============================] - 0s 3ms/step - loss: 0.6805 - accuracy: 0.6375 - val_loss: 0.6749 - val_accuracy: 0.6875\n",
      "Epoch 4/50\n",
      "20/20 [==============================] - 0s 3ms/step - loss: 0.6740 - accuracy: 0.6719 - val_loss: 0.6684 - val_accuracy: 0.7250\n",
      "Epoch 5/50\n",
      "20/20 [==============================] - 0s 4ms/step - loss: 0.6672 - accuracy: 0.6969 - val_loss: 0.6615 - val_accuracy: 0.7500\n",
      "Epoch 6/50\n",
      "20/20 [==============================] - 0s 3ms/step - loss: 0.6602 - accuracy: 0.7234 - val_loss: 0.6537 - val_accuracy: 0.7500\n",
      "Epoch 7/50\n",
      "20/20 [==============================] - 0s 3ms/step - loss: 0.6526 - accuracy: 0.7375 - val_loss: 0.6456 - val_accuracy: 0.7563\n",
      "Epoch 8/50\n",
      "20/20 [==============================] - 0s 3ms/step - loss: 0.6446 - accuracy: 0.7359 - val_loss: 0.6359 - val_accuracy: 0.7625\n",
      "Epoch 9/50\n",
      "20/20 [==============================] - 0s 3ms/step - loss: 0.6359 - accuracy: 0.7484 - val_loss: 0.6258 - val_accuracy: 0.7563\n",
      "Epoch 10/50\n",
      "20/20 [==============================] - 0s 3ms/step - loss: 0.6265 - accuracy: 0.7516 - val_loss: 0.6151 - val_accuracy: 0.7563\n",
      "Epoch 11/50\n",
      "20/20 [==============================] - 0s 3ms/step - loss: 0.6164 - accuracy: 0.7547 - val_loss: 0.6026 - val_accuracy: 0.7750\n",
      "Epoch 12/50\n",
      "20/20 [==============================] - 0s 3ms/step - loss: 0.6056 - accuracy: 0.7563 - val_loss: 0.5904 - val_accuracy: 0.7812\n",
      "Epoch 13/50\n",
      "20/20 [==============================] - 0s 3ms/step - loss: 0.5943 - accuracy: 0.7547 - val_loss: 0.5777 - val_accuracy: 0.7750\n",
      "Epoch 14/50\n",
      "20/20 [==============================] - 0s 3ms/step - loss: 0.5829 - accuracy: 0.7578 - val_loss: 0.5650 - val_accuracy: 0.7875\n",
      "Epoch 15/50\n",
      "20/20 [==============================] - 0s 3ms/step - loss: 0.5721 - accuracy: 0.7500 - val_loss: 0.5530 - val_accuracy: 0.7875\n",
      "Epoch 16/50\n",
      "20/20 [==============================] - 0s 3ms/step - loss: 0.5610 - accuracy: 0.7609 - val_loss: 0.5413 - val_accuracy: 0.7812\n",
      "Epoch 17/50\n",
      "20/20 [==============================] - 0s 3ms/step - loss: 0.5510 - accuracy: 0.7609 - val_loss: 0.5296 - val_accuracy: 0.7812\n",
      "Epoch 18/50\n",
      "20/20 [==============================] - 0s 3ms/step - loss: 0.5402 - accuracy: 0.7594 - val_loss: 0.5200 - val_accuracy: 0.7750\n",
      "Epoch 19/50\n",
      "20/20 [==============================] - 0s 3ms/step - loss: 0.5314 - accuracy: 0.7578 - val_loss: 0.5102 - val_accuracy: 0.7750\n",
      "Epoch 20/50\n",
      "20/20 [==============================] - 0s 3ms/step - loss: 0.5227 - accuracy: 0.7641 - val_loss: 0.5026 - val_accuracy: 0.7812\n",
      "Epoch 21/50\n",
      "20/20 [==============================] - 0s 3ms/step - loss: 0.5150 - accuracy: 0.7641 - val_loss: 0.4957 - val_accuracy: 0.7688\n",
      "Epoch 22/50\n",
      "20/20 [==============================] - 0s 3ms/step - loss: 0.5084 - accuracy: 0.7656 - val_loss: 0.4896 - val_accuracy: 0.7750\n",
      "Epoch 23/50\n",
      "20/20 [==============================] - 0s 3ms/step - loss: 0.5026 - accuracy: 0.7672 - val_loss: 0.4844 - val_accuracy: 0.7750\n",
      "Epoch 24/50\n",
      "20/20 [==============================] - 0s 3ms/step - loss: 0.4973 - accuracy: 0.7656 - val_loss: 0.4779 - val_accuracy: 0.7750\n",
      "Epoch 25/50\n",
      "20/20 [==============================] - 0s 3ms/step - loss: 0.4917 - accuracy: 0.7703 - val_loss: 0.4743 - val_accuracy: 0.7750\n",
      "Epoch 26/50\n",
      "20/20 [==============================] - 0s 3ms/step - loss: 0.4872 - accuracy: 0.7703 - val_loss: 0.4711 - val_accuracy: 0.7750\n",
      "Epoch 27/50\n",
      "20/20 [==============================] - 0s 3ms/step - loss: 0.4826 - accuracy: 0.7750 - val_loss: 0.4674 - val_accuracy: 0.7750\n",
      "Epoch 28/50\n",
      "20/20 [==============================] - 0s 3ms/step - loss: 0.4794 - accuracy: 0.7750 - val_loss: 0.4658 - val_accuracy: 0.7625\n",
      "Epoch 29/50\n",
      "20/20 [==============================] - 0s 3ms/step - loss: 0.4760 - accuracy: 0.7812 - val_loss: 0.4629 - val_accuracy: 0.7688\n",
      "Epoch 30/50\n",
      "20/20 [==============================] - 0s 4ms/step - loss: 0.4724 - accuracy: 0.7812 - val_loss: 0.4614 - val_accuracy: 0.7625\n",
      "Epoch 31/50\n",
      "20/20 [==============================] - 0s 3ms/step - loss: 0.4697 - accuracy: 0.7781 - val_loss: 0.4611 - val_accuracy: 0.7625\n",
      "Epoch 32/50\n",
      "20/20 [==============================] - 0s 3ms/step - loss: 0.4672 - accuracy: 0.7781 - val_loss: 0.4586 - val_accuracy: 0.7688\n",
      "Epoch 33/50\n",
      "20/20 [==============================] - 0s 4ms/step - loss: 0.4642 - accuracy: 0.7812 - val_loss: 0.4573 - val_accuracy: 0.7688\n",
      "Epoch 34/50\n",
      "20/20 [==============================] - 0s 3ms/step - loss: 0.4621 - accuracy: 0.7781 - val_loss: 0.4558 - val_accuracy: 0.7688\n",
      "Epoch 35/50\n",
      "20/20 [==============================] - 0s 3ms/step - loss: 0.4592 - accuracy: 0.7828 - val_loss: 0.4552 - val_accuracy: 0.7688\n",
      "Epoch 36/50\n",
      "20/20 [==============================] - 0s 3ms/step - loss: 0.4570 - accuracy: 0.7797 - val_loss: 0.4550 - val_accuracy: 0.7625\n",
      "Epoch 37/50\n",
      "20/20 [==============================] - 0s 3ms/step - loss: 0.4552 - accuracy: 0.7828 - val_loss: 0.4537 - val_accuracy: 0.7688\n",
      "Epoch 38/50\n",
      "20/20 [==============================] - 0s 3ms/step - loss: 0.4532 - accuracy: 0.7812 - val_loss: 0.4536 - val_accuracy: 0.7688\n",
      "Epoch 39/50\n",
      "20/20 [==============================] - 0s 3ms/step - loss: 0.4517 - accuracy: 0.7766 - val_loss: 0.4534 - val_accuracy: 0.7625\n",
      "Epoch 40/50\n",
      "20/20 [==============================] - 0s 3ms/step - loss: 0.4494 - accuracy: 0.7750 - val_loss: 0.4533 - val_accuracy: 0.7625\n",
      "Epoch 41/50\n",
      "20/20 [==============================] - 0s 3ms/step - loss: 0.4478 - accuracy: 0.7797 - val_loss: 0.4515 - val_accuracy: 0.7688\n",
      "Epoch 42/50\n",
      "20/20 [==============================] - 0s 3ms/step - loss: 0.4454 - accuracy: 0.7812 - val_loss: 0.4521 - val_accuracy: 0.7625\n",
      "Epoch 43/50\n",
      "20/20 [==============================] - 0s 3ms/step - loss: 0.4435 - accuracy: 0.7844 - val_loss: 0.4520 - val_accuracy: 0.7625\n",
      "Epoch 44/50\n",
      "20/20 [==============================] - 0s 3ms/step - loss: 0.4419 - accuracy: 0.7891 - val_loss: 0.4516 - val_accuracy: 0.7625\n",
      "Epoch 45/50\n",
      "20/20 [==============================] - 0s 3ms/step - loss: 0.4401 - accuracy: 0.7844 - val_loss: 0.4503 - val_accuracy: 0.7625\n",
      "Epoch 46/50\n",
      "20/20 [==============================] - 0s 2ms/step - loss: 0.4385 - accuracy: 0.7875 - val_loss: 0.4515 - val_accuracy: 0.7625\n",
      "Epoch 47/50\n",
      "20/20 [==============================] - 0s 3ms/step - loss: 0.4368 - accuracy: 0.7875 - val_loss: 0.4510 - val_accuracy: 0.7625\n",
      "Epoch 48/50\n",
      "20/20 [==============================] - 0s 3ms/step - loss: 0.4351 - accuracy: 0.7891 - val_loss: 0.4506 - val_accuracy: 0.7625\n",
      "Epoch 49/50\n",
      "20/20 [==============================] - 0s 3ms/step - loss: 0.4331 - accuracy: 0.7875 - val_loss: 0.4505 - val_accuracy: 0.7625\n",
      "Epoch 50/50\n",
      "20/20 [==============================] - 0s 3ms/step - loss: 0.4319 - accuracy: 0.7937 - val_loss: 0.4510 - val_accuracy: 0.7625\n"
     ]
    }
   ],
   "source": [
    "history = model.fit(x_train, y_train, \n",
    "                    validation_split=0.2,\n",
    "#                     validation_data=(x_test, y_test), \n",
    "                    epochs=epochs)"
   ]
  },
  {
   "cell_type": "code",
   "execution_count": 37,
   "metadata": {},
   "outputs": [
    {
     "data": {
      "text/plain": [
       "[<matplotlib.lines.Line2D at 0x1a9ce7bd970>]"
      ]
     },
     "execution_count": 37,
     "metadata": {},
     "output_type": "execute_result"
    },
    {
     "data": {
      "image/png": "[encoded data removed]",
      "text/plain": [
       "<Figure size 640x480 with 1 Axes>"
      ]
     },
     "metadata": {},
     "output_type": "display_data"
    }
   ],
   "source": [
    "plt.plot(range(epochs), history.history['accuracy'])\n",
    "plt.plot(range(epochs), history.history['val_accuracy'])"
   ]
  },
  {
   "cell_type": "code",
   "execution_count": 38,
   "metadata": {
    "scrolled": true
   },
   "outputs": [
    {
     "name": "stdout",
     "output_type": "stream",
     "text": [
      "7/7 [==============================] - 0s 4ms/step\n"
     ]
    }
   ],
   "source": [
    "y_pred = model.predict(x_test)"
   ]
  },
  {
   "cell_type": "code",
   "execution_count": 39,
   "metadata": {},
   "outputs": [],
   "source": [
    "y_pred = y_pred.round()"
   ]
  },
  {
   "cell_type": "code",
   "execution_count": 40,
   "metadata": {},
   "outputs": [
    {
     "data": {
      "text/plain": [
       "array([[79, 18],\n",
       "       [19, 84]], dtype=int64)"
      ]
     },
     "execution_count": 40,
     "metadata": {},
     "output_type": "execute_result"
    }
   ],
   "source": [
    "cm = confusion_matrix(y_test, y_pred)\n",
    "cm"
   ]
  },
  {
   "cell_type": "code",
   "execution_count": 41,
   "metadata": {},
   "outputs": [
    {
     "data": {
      "text/plain": [
       "<AxesSubplot:>"
      ]
     },
     "execution_count": 41,
     "metadata": {},
     "output_type": "execute_result"
    },
    {
     "data": {
      "image/png": "[encoded data removed]",
      "text/plain": [
       "<Figure size 640x480 with 2 Axes>"
      ]
     },
     "metadata": {},
     "output_type": "display_data"
    }
   ],
   "source": [
    "sns.heatmap(cm, cmap='crest', annot=True)"
   ]
  },
  {
   "cell_type": "code",
   "execution_count": 42,
   "metadata": {},
   "outputs": [
    {
     "name": "stdout",
     "output_type": "stream",
     "text": [
      "              precision    recall  f1-score   support\n",
      "\n",
      "           0       0.81      0.81      0.81        97\n",
      "           1       0.82      0.82      0.82       103\n",
      "\n",
      "    accuracy                           0.81       200\n",
      "   macro avg       0.81      0.81      0.81       200\n",
      "weighted avg       0.82      0.81      0.82       200\n",
      "\n"
     ]
    }
   ],
   "source": [
    "print(classification_report(y_test, y_pred))"
   ]
  },
  {
   "cell_type": "markdown",
   "metadata": {},
   "source": [
    "### ann_viz gives error"
   ]
  },
  {
   "cell_type": "code",
   "execution_count": 43,
   "metadata": {},
   "outputs": [
    {
     "ename": "AttributeError",
     "evalue": "module 'keras.layers' has no attribute 'core'",
     "output_type": "error",
     "traceback": [
      "\u001b[1;31m---------------------------------------------------------------------------\u001b[0m",
      "\u001b[1;31mAttributeError\u001b[0m                            Traceback (most recent call last)",
      "\u001b[1;32m~\\AppData\\Local\\Temp\\ipykernel_14852\\2874491517.py\u001b[0m in \u001b[0;36m<module>\u001b[1;34m\u001b[0m\n\u001b[1;32m----> 1\u001b[1;33m \u001b[0mann_viz\u001b[0m\u001b[1;33m(\u001b[0m\u001b[0mmodel\u001b[0m\u001b[1;33m,\u001b[0m \u001b[0mtitle\u001b[0m\u001b[1;33m=\u001b[0m\u001b[1;34m\"My first neural network\"\u001b[0m\u001b[1;33m)\u001b[0m\u001b[1;33m\u001b[0m\u001b[1;33m\u001b[0m\u001b[0m\n\u001b[0m",
      "\u001b[1;32m~\\anaconda3\\lib\\site-packages\\ann_visualizer\\visualize.py\u001b[0m in \u001b[0;36mann_viz\u001b[1;34m(model, view, filename, title)\u001b[0m\n\u001b[0;32m     42\u001b[0m             \u001b[0minput_layer\u001b[0m \u001b[1;33m=\u001b[0m \u001b[0mint\u001b[0m\u001b[1;33m(\u001b[0m\u001b[0mstr\u001b[0m\u001b[1;33m(\u001b[0m\u001b[0mlayer\u001b[0m\u001b[1;33m.\u001b[0m\u001b[0minput_shape\u001b[0m\u001b[1;33m)\u001b[0m\u001b[1;33m.\u001b[0m\u001b[0msplit\u001b[0m\u001b[1;33m(\u001b[0m\u001b[1;34m\",\"\u001b[0m\u001b[1;33m)\u001b[0m\u001b[1;33m[\u001b[0m\u001b[1;36m1\u001b[0m\u001b[1;33m]\u001b[0m\u001b[1;33m[\u001b[0m\u001b[1;36m1\u001b[0m\u001b[1;33m:\u001b[0m\u001b[1;33m-\u001b[0m\u001b[1;36m1\u001b[0m\u001b[1;33m]\u001b[0m\u001b[1;33m)\u001b[0m\u001b[1;33m;\u001b[0m\u001b[1;33m\u001b[0m\u001b[1;33m\u001b[0m\u001b[0m\n\u001b[0;32m     43\u001b[0m             \u001b[0mhidden_layers_nr\u001b[0m \u001b[1;33m+=\u001b[0m \u001b[1;36m1\u001b[0m\u001b[1;33m;\u001b[0m\u001b[1;33m\u001b[0m\u001b[1;33m\u001b[0m\u001b[0m\n\u001b[1;32m---> 44\u001b[1;33m             \u001b[1;32mif\u001b[0m \u001b[1;33m(\u001b[0m\u001b[0mtype\u001b[0m\u001b[1;33m(\u001b[0m\u001b[0mlayer\u001b[0m\u001b[1;33m)\u001b[0m \u001b[1;33m==\u001b[0m \u001b[0mkeras\u001b[0m\u001b[1;33m.\u001b[0m\u001b[0mlayers\u001b[0m\u001b[1;33m.\u001b[0m\u001b[0mcore\u001b[0m\u001b[1;33m.\u001b[0m\u001b[0mDense\u001b[0m\u001b[1;33m)\u001b[0m\u001b[1;33m:\u001b[0m\u001b[1;33m\u001b[0m\u001b[1;33m\u001b[0m\u001b[0m\n\u001b[0m\u001b[0;32m     45\u001b[0m                 \u001b[0mhidden_layers\u001b[0m\u001b[1;33m.\u001b[0m\u001b[0mappend\u001b[0m\u001b[1;33m(\u001b[0m\u001b[0mint\u001b[0m\u001b[1;33m(\u001b[0m\u001b[0mstr\u001b[0m\u001b[1;33m(\u001b[0m\u001b[0mlayer\u001b[0m\u001b[1;33m.\u001b[0m\u001b[0moutput_shape\u001b[0m\u001b[1;33m)\u001b[0m\u001b[1;33m.\u001b[0m\u001b[0msplit\u001b[0m\u001b[1;33m(\u001b[0m\u001b[1;34m\",\"\u001b[0m\u001b[1;33m)\u001b[0m\u001b[1;33m[\u001b[0m\u001b[1;36m1\u001b[0m\u001b[1;33m]\u001b[0m\u001b[1;33m[\u001b[0m\u001b[1;36m1\u001b[0m\u001b[1;33m:\u001b[0m\u001b[1;33m-\u001b[0m\u001b[1;36m1\u001b[0m\u001b[1;33m]\u001b[0m\u001b[1;33m)\u001b[0m\u001b[1;33m)\u001b[0m\u001b[1;33m;\u001b[0m\u001b[1;33m\u001b[0m\u001b[1;33m\u001b[0m\u001b[0m\n\u001b[0;32m     46\u001b[0m                 \u001b[0mlayer_types\u001b[0m\u001b[1;33m.\u001b[0m\u001b[0mappend\u001b[0m\u001b[1;33m(\u001b[0m\u001b[1;34m\"Dense\"\u001b[0m\u001b[1;33m)\u001b[0m\u001b[1;33m;\u001b[0m\u001b[1;33m\u001b[0m\u001b[1;33m\u001b[0m\u001b[0m\n",
      "\u001b[1;31mAttributeError\u001b[0m: module 'keras.layers' has no attribute 'core'"
     ]
    }
   ],
   "source": [
    "ann_viz(model, title=\"My first neural network\")"
   ]
  },
  {
   "cell_type": "markdown",
   "metadata": {},
   "source": [
    "### But, tensorflow plot_model works fine"
   ]
  },
  {
   "cell_type": "code",
   "execution_count": 44,
   "metadata": {},
   "outputs": [
    {
     "data": {
      "image/png": "[encoded data removed]",
      "text/plain": [
       "<IPython.core.display.Image object>"
      ]
     },
     "execution_count": 44,
     "metadata": {},
     "output_type": "execute_result"
    }
   ],
   "source": [
    "img_file = './model_arch.png'\n",
    "\n",
    "tf.keras.utils.plot_model(model, to_file=img_file, show_shapes=True, show_layer_names=True)"
   ]
  }
 ],
 "metadata": {
  "kernelspec": {
   "display_name": "Python 3 (ipykernel)",
   "language": "python",
   "name": "python3"
  },
  "language_info": {
   "codemirror_mode": {
    "name": "ipython",
    "version": 3
   },
   "file_extension": ".py",
   "mimetype": "text/x-python",
   "name": "python",
   "nbconvert_exporter": "python",
   "pygments_lexer": "ipython3",
   "version": "3.9.13"
  }
 },
 "nbformat": 4,
 "nbformat_minor": 2
}
