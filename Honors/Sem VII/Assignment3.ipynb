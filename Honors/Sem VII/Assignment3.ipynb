{
 "cells": [
  {
   "cell_type": "code",
   "execution_count": 2,
   "metadata": {
    "colab": {
     "base_uri": "https://localhost:8080/"
    },
    "id": "j96jnjFAzET2",
    "outputId": "9fcc5e96-e00b-41f2-e920-a1a84a7262a0"
   },
   "outputs": [
    {
     "name": "stderr",
     "output_type": "stream",
     "text": [
      "C:\\Users\\Shrirang\\AppData\\Local\\Temp\\ipykernel_13592\\1176866096.py:37: RuntimeWarning: divide by zero encountered in scalar divide\n",
      "  slope =-(weights[0]/weights[1])\n"
     ]
    },
    {
     "name": "stdout",
     "output_type": "stream",
     "text": [
      "input is:\n",
      "[[ 1  1  1]\n",
      " [ 1 -1  1]\n",
      " [-1  1  1]\n",
      " [-1 -1  1]]\n",
      "output for And Gate is: \n",
      "[[ 1]\n",
      " [-1]\n",
      " [-1]\n",
      " [-1]]\n",
      "output for Or Gate is: \n",
      "[[ 1]\n",
      " [-1]\n",
      " [-1]\n",
      " [-1]]\n",
      "[0. 0. 0.]\n",
      "Checking after learning selectg a input\n",
      "Enter the test case no you want to try1\n",
      "Select a logic you also want  to check\n",
      "1\n",
      "[ 2.  2. -2.]\n",
      "selected input is 1 \n",
      "[ 1 -1  1]\n",
      "1\n"
     ]
    }
   ],
   "source": [
    "import numpy as np\n",
    "from random import randint\n",
    "#inputs\n",
    "\n",
    "X=np.array([[1,1,1],[1,-1,1],[-1,1,1],[-1,-1,1]])\n",
    "#output\n",
    "Y_ad=np.array([[1],[-1],[-1],[-1]])\n",
    "Y_o=np.array([[1],[1],[1],[-1]])\n",
    "\n",
    "print('input is:')\n",
    "print(X)\n",
    "print('output for And Gate is: ')\n",
    "print(Y_ad)\n",
    "print('output for Or Gate is: ')\n",
    "print(Y_ad)\n",
    "weights_ad=np.zeros((3))\n",
    "weights_o=np.zeros((3))\n",
    "print(weights_ad)\n",
    "\n",
    "# update weight for and gate /logic\n",
    "def update_weight_ad(X,Y,weights):\n",
    "    for i in range(4):\n",
    "       weights=weights+X[i]*Y[i]\n",
    "       #print weights\n",
    "    slope =-(weights[0]/weights[1])\n",
    "    c=-(weights[2]/weights[0])\n",
    "    if slope<0 and weights[0]>0:\n",
    "      weights_main=weights\n",
    "    return weights_main\n",
    "\n",
    "def update_weight_o(X,Y,weights):\n",
    "    for i in range(4):\n",
    "\n",
    "        weights=weights+X[i]*Y[i]\n",
    "\n",
    "        #print weights\n",
    "        slope =-(weights[0]/weights[1])\n",
    "        c=-(weights[2]/weights[0])\n",
    "        if slope<0 and weights[0]>0:\n",
    "            weights_main=weights\n",
    "\n",
    "    return weights_main\n",
    "\n",
    "weights_ad=update_weight_ad(X,Y_ad,weights_ad)\n",
    "weights_o=update_weight_o(X,Y_o,weights_o)\n",
    "\n",
    "print('Checking after learning selectg a input')\n",
    "rand_int=int(input('Enter the test case no you want to try'))\n",
    "print('Select a logic you also want  to check')\n",
    "logicgate=input()\n",
    "print(weights_ad)\n",
    "print('selected input is %d '%rand_int)\n",
    "print(X[rand_int])\n",
    "def check_learning(X,weights,rand_int):\n",
    "    Yin=0\n",
    "    for i in range(3):\n",
    "        Yin+=X[rand_int,i]*weights[i]\n",
    "    if Yin<0:\n",
    "        Yin=-1\n",
    "    else:\n",
    "        Yin=1\n",
    "    return Yin\n",
    "if logicgate=='a' or logicgate=='A':\n",
    "    weights_in=weights_ad\n",
    "else:\n",
    "    weights_in=weights_o\n",
    "Yin=check_learning(X,weights_in,rand_int)\n",
    "print(Yin)\n"
   ]
  },
  {
   "cell_type": "code",
   "execution_count": null,
   "metadata": {},
   "outputs": [],
   "source": []
  }
 ],
 "metadata": {
  "colab": {
   "provenance": []
  },
  "kernelspec": {
   "display_name": "Python 3 (ipykernel)",
   "language": "python",
   "name": "python3"
  },
  "language_info": {
   "codemirror_mode": {
    "name": "ipython",
    "version": 3
   },
   "file_extension": ".py",
   "mimetype": "text/x-python",
   "name": "python",
   "nbconvert_exporter": "python",
   "pygments_lexer": "ipython3",
   "version": "3.9.13"
  }
 },
 "nbformat": 4,
 "nbformat_minor": 1
}
