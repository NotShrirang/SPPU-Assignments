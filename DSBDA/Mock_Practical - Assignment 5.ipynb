{
 "cells": [
  {
   "attachments": {},
   "cell_type": "markdown",
   "id": "731f45a3",
   "metadata": {},
   "source": [
    "## Mock Practical Exam"
   ]
  },
  {
   "attachments": {},
   "cell_type": "markdown",
   "id": "4ebd6893",
   "metadata": {},
   "source": [
    "## Importing libraries"
   ]
  },
  {
   "cell_type": "code",
   "execution_count": 276,
   "id": "02b5cd43",
   "metadata": {},
   "outputs": [],
   "source": [
    "import numpy as np\n",
    "import pandas as pd\n",
    "from sklearn.linear_model import LogisticRegression\n",
    "from sklearn.preprocessing import StandardScaler\n",
    "from sklearn.model_selection import train_test_split\n",
    "from sklearn.metrics import classification_report, confusion_matrix, accuracy_score, recall_score, precision_score, f1_score\n",
    "import matplotlib.pyplot as plt\n",
    "import seaborn as sns"
   ]
  },
  {
   "attachments": {},
   "cell_type": "markdown",
   "id": "551ebf02",
   "metadata": {},
   "source": [
    "## Importing data"
   ]
  },
  {
   "cell_type": "code",
   "execution_count": 277,
   "id": "fe22ca8f",
   "metadata": {},
   "outputs": [
    {
     "data": {
      "text/html": [
       "<div>\n",
       "<style scoped>\n",
       "    .dataframe tbody tr th:only-of-type {\n",
       "        vertical-align: middle;\n",
       "    }\n",
       "\n",
       "    .dataframe tbody tr th {\n",
       "        vertical-align: top;\n",
       "    }\n",
       "\n",
       "    .dataframe thead th {\n",
       "        text-align: right;\n",
       "    }\n",
       "</style>\n",
       "<table border=\"1\" class=\"dataframe\">\n",
       "  <thead>\n",
       "    <tr style=\"text-align: right;\">\n",
       "      <th></th>\n",
       "      <th>Age</th>\n",
       "      <th>Race</th>\n",
       "      <th>Marital Status</th>\n",
       "      <th>T Stage</th>\n",
       "      <th>N Stage</th>\n",
       "      <th>6th Stage</th>\n",
       "      <th>differentiate</th>\n",
       "      <th>Grade</th>\n",
       "      <th>A Stage</th>\n",
       "      <th>Tumor Size</th>\n",
       "      <th>Estrogen Status</th>\n",
       "      <th>Progesterone Status</th>\n",
       "      <th>Regional Node Examined</th>\n",
       "      <th>Reginol Node Positive</th>\n",
       "      <th>Survival Months</th>\n",
       "      <th>Status</th>\n",
       "    </tr>\n",
       "  </thead>\n",
       "  <tbody>\n",
       "    <tr>\n",
       "      <th>0</th>\n",
       "      <td>68</td>\n",
       "      <td>White</td>\n",
       "      <td>Married</td>\n",
       "      <td>T1</td>\n",
       "      <td>N1</td>\n",
       "      <td>IIA</td>\n",
       "      <td>Poorly differentiated</td>\n",
       "      <td>3</td>\n",
       "      <td>Regional</td>\n",
       "      <td>4</td>\n",
       "      <td>Positive</td>\n",
       "      <td>Positive</td>\n",
       "      <td>24</td>\n",
       "      <td>1</td>\n",
       "      <td>60</td>\n",
       "      <td>Alive</td>\n",
       "    </tr>\n",
       "    <tr>\n",
       "      <th>1</th>\n",
       "      <td>50</td>\n",
       "      <td>White</td>\n",
       "      <td>Married</td>\n",
       "      <td>T2</td>\n",
       "      <td>N2</td>\n",
       "      <td>IIIA</td>\n",
       "      <td>Moderately differentiated</td>\n",
       "      <td>2</td>\n",
       "      <td>Regional</td>\n",
       "      <td>35</td>\n",
       "      <td>Positive</td>\n",
       "      <td>Positive</td>\n",
       "      <td>14</td>\n",
       "      <td>5</td>\n",
       "      <td>62</td>\n",
       "      <td>Alive</td>\n",
       "    </tr>\n",
       "    <tr>\n",
       "      <th>2</th>\n",
       "      <td>58</td>\n",
       "      <td>White</td>\n",
       "      <td>Divorced</td>\n",
       "      <td>T3</td>\n",
       "      <td>N3</td>\n",
       "      <td>IIIC</td>\n",
       "      <td>Moderately differentiated</td>\n",
       "      <td>2</td>\n",
       "      <td>Regional</td>\n",
       "      <td>63</td>\n",
       "      <td>Positive</td>\n",
       "      <td>Positive</td>\n",
       "      <td>14</td>\n",
       "      <td>7</td>\n",
       "      <td>75</td>\n",
       "      <td>Alive</td>\n",
       "    </tr>\n",
       "    <tr>\n",
       "      <th>3</th>\n",
       "      <td>58</td>\n",
       "      <td>White</td>\n",
       "      <td>Married</td>\n",
       "      <td>T1</td>\n",
       "      <td>N1</td>\n",
       "      <td>IIA</td>\n",
       "      <td>Poorly differentiated</td>\n",
       "      <td>3</td>\n",
       "      <td>Regional</td>\n",
       "      <td>18</td>\n",
       "      <td>Positive</td>\n",
       "      <td>Positive</td>\n",
       "      <td>2</td>\n",
       "      <td>1</td>\n",
       "      <td>84</td>\n",
       "      <td>Alive</td>\n",
       "    </tr>\n",
       "    <tr>\n",
       "      <th>4</th>\n",
       "      <td>47</td>\n",
       "      <td>White</td>\n",
       "      <td>Married</td>\n",
       "      <td>T2</td>\n",
       "      <td>N1</td>\n",
       "      <td>IIB</td>\n",
       "      <td>Poorly differentiated</td>\n",
       "      <td>3</td>\n",
       "      <td>Regional</td>\n",
       "      <td>41</td>\n",
       "      <td>Positive</td>\n",
       "      <td>Positive</td>\n",
       "      <td>3</td>\n",
       "      <td>1</td>\n",
       "      <td>50</td>\n",
       "      <td>Alive</td>\n",
       "    </tr>\n",
       "    <tr>\n",
       "      <th>...</th>\n",
       "      <td>...</td>\n",
       "      <td>...</td>\n",
       "      <td>...</td>\n",
       "      <td>...</td>\n",
       "      <td>...</td>\n",
       "      <td>...</td>\n",
       "      <td>...</td>\n",
       "      <td>...</td>\n",
       "      <td>...</td>\n",
       "      <td>...</td>\n",
       "      <td>...</td>\n",
       "      <td>...</td>\n",
       "      <td>...</td>\n",
       "      <td>...</td>\n",
       "      <td>...</td>\n",
       "      <td>...</td>\n",
       "    </tr>\n",
       "    <tr>\n",
       "      <th>4019</th>\n",
       "      <td>62</td>\n",
       "      <td>Other</td>\n",
       "      <td>Married</td>\n",
       "      <td>T1</td>\n",
       "      <td>N1</td>\n",
       "      <td>IIA</td>\n",
       "      <td>Moderately differentiated</td>\n",
       "      <td>2</td>\n",
       "      <td>Regional</td>\n",
       "      <td>9</td>\n",
       "      <td>Positive</td>\n",
       "      <td>Positive</td>\n",
       "      <td>1</td>\n",
       "      <td>1</td>\n",
       "      <td>49</td>\n",
       "      <td>Alive</td>\n",
       "    </tr>\n",
       "    <tr>\n",
       "      <th>4020</th>\n",
       "      <td>56</td>\n",
       "      <td>White</td>\n",
       "      <td>Divorced</td>\n",
       "      <td>T2</td>\n",
       "      <td>N2</td>\n",
       "      <td>IIIA</td>\n",
       "      <td>Moderately differentiated</td>\n",
       "      <td>2</td>\n",
       "      <td>Regional</td>\n",
       "      <td>46</td>\n",
       "      <td>Positive</td>\n",
       "      <td>Positive</td>\n",
       "      <td>14</td>\n",
       "      <td>8</td>\n",
       "      <td>69</td>\n",
       "      <td>Alive</td>\n",
       "    </tr>\n",
       "    <tr>\n",
       "      <th>4021</th>\n",
       "      <td>68</td>\n",
       "      <td>White</td>\n",
       "      <td>Married</td>\n",
       "      <td>T2</td>\n",
       "      <td>N1</td>\n",
       "      <td>IIB</td>\n",
       "      <td>Moderately differentiated</td>\n",
       "      <td>2</td>\n",
       "      <td>Regional</td>\n",
       "      <td>22</td>\n",
       "      <td>Positive</td>\n",
       "      <td>Negative</td>\n",
       "      <td>11</td>\n",
       "      <td>3</td>\n",
       "      <td>69</td>\n",
       "      <td>Alive</td>\n",
       "    </tr>\n",
       "    <tr>\n",
       "      <th>4022</th>\n",
       "      <td>58</td>\n",
       "      <td>Black</td>\n",
       "      <td>Divorced</td>\n",
       "      <td>T2</td>\n",
       "      <td>N1</td>\n",
       "      <td>IIB</td>\n",
       "      <td>Moderately differentiated</td>\n",
       "      <td>2</td>\n",
       "      <td>Regional</td>\n",
       "      <td>44</td>\n",
       "      <td>Positive</td>\n",
       "      <td>Positive</td>\n",
       "      <td>11</td>\n",
       "      <td>1</td>\n",
       "      <td>72</td>\n",
       "      <td>Alive</td>\n",
       "    </tr>\n",
       "    <tr>\n",
       "      <th>4023</th>\n",
       "      <td>46</td>\n",
       "      <td>White</td>\n",
       "      <td>Married</td>\n",
       "      <td>T2</td>\n",
       "      <td>N1</td>\n",
       "      <td>IIB</td>\n",
       "      <td>Moderately differentiated</td>\n",
       "      <td>2</td>\n",
       "      <td>Regional</td>\n",
       "      <td>30</td>\n",
       "      <td>Positive</td>\n",
       "      <td>Positive</td>\n",
       "      <td>7</td>\n",
       "      <td>2</td>\n",
       "      <td>100</td>\n",
       "      <td>Alive</td>\n",
       "    </tr>\n",
       "  </tbody>\n",
       "</table>\n",
       "<p>4024 rows × 16 columns</p>\n",
       "</div>"
      ],
      "text/plain": [
       "      Age   Race Marital Status T Stage  N Stage 6th Stage  \\\n",
       "0      68  White        Married       T1      N1       IIA   \n",
       "1      50  White        Married       T2      N2      IIIA   \n",
       "2      58  White       Divorced       T3      N3      IIIC   \n",
       "3      58  White        Married       T1      N1       IIA   \n",
       "4      47  White        Married       T2      N1       IIB   \n",
       "...   ...    ...            ...      ...     ...       ...   \n",
       "4019   62  Other        Married       T1      N1       IIA   \n",
       "4020   56  White       Divorced       T2      N2      IIIA   \n",
       "4021   68  White        Married       T2      N1       IIB   \n",
       "4022   58  Black       Divorced       T2      N1       IIB   \n",
       "4023   46  White        Married       T2      N1       IIB   \n",
       "\n",
       "                  differentiate Grade   A Stage  Tumor Size Estrogen Status  \\\n",
       "0         Poorly differentiated     3  Regional           4        Positive   \n",
       "1     Moderately differentiated     2  Regional          35        Positive   \n",
       "2     Moderately differentiated     2  Regional          63        Positive   \n",
       "3         Poorly differentiated     3  Regional          18        Positive   \n",
       "4         Poorly differentiated     3  Regional          41        Positive   \n",
       "...                         ...   ...       ...         ...             ...   \n",
       "4019  Moderately differentiated     2  Regional           9        Positive   \n",
       "4020  Moderately differentiated     2  Regional          46        Positive   \n",
       "4021  Moderately differentiated     2  Regional          22        Positive   \n",
       "4022  Moderately differentiated     2  Regional          44        Positive   \n",
       "4023  Moderately differentiated     2  Regional          30        Positive   \n",
       "\n",
       "     Progesterone Status  Regional Node Examined  Reginol Node Positive  \\\n",
       "0               Positive                      24                      1   \n",
       "1               Positive                      14                      5   \n",
       "2               Positive                      14                      7   \n",
       "3               Positive                       2                      1   \n",
       "4               Positive                       3                      1   \n",
       "...                  ...                     ...                    ...   \n",
       "4019            Positive                       1                      1   \n",
       "4020            Positive                      14                      8   \n",
       "4021            Negative                      11                      3   \n",
       "4022            Positive                      11                      1   \n",
       "4023            Positive                       7                      2   \n",
       "\n",
       "      Survival Months Status  \n",
       "0                  60  Alive  \n",
       "1                  62  Alive  \n",
       "2                  75  Alive  \n",
       "3                  84  Alive  \n",
       "4                  50  Alive  \n",
       "...               ...    ...  \n",
       "4019               49  Alive  \n",
       "4020               69  Alive  \n",
       "4021               69  Alive  \n",
       "4022               72  Alive  \n",
       "4023              100  Alive  \n",
       "\n",
       "[4024 rows x 16 columns]"
      ]
     },
     "execution_count": 277,
     "metadata": {},
     "output_type": "execute_result"
    }
   ],
   "source": [
    "data = pd.read_csv(\"./Datasets/Breast_Cancer.csv\")\n",
    "data"
   ]
  },
  {
   "cell_type": "code",
   "execution_count": 278,
   "id": "7c191513",
   "metadata": {},
   "outputs": [
    {
     "data": {
      "text/html": [
       "<div>\n",
       "<style scoped>\n",
       "    .dataframe tbody tr th:only-of-type {\n",
       "        vertical-align: middle;\n",
       "    }\n",
       "\n",
       "    .dataframe tbody tr th {\n",
       "        vertical-align: top;\n",
       "    }\n",
       "\n",
       "    .dataframe thead th {\n",
       "        text-align: right;\n",
       "    }\n",
       "</style>\n",
       "<table border=\"1\" class=\"dataframe\">\n",
       "  <thead>\n",
       "    <tr style=\"text-align: right;\">\n",
       "      <th></th>\n",
       "      <th>Age</th>\n",
       "      <th>Race</th>\n",
       "      <th>Marital Status</th>\n",
       "      <th>T Stage</th>\n",
       "      <th>N Stage</th>\n",
       "      <th>6th Stage</th>\n",
       "      <th>differentiate</th>\n",
       "      <th>Grade</th>\n",
       "      <th>A Stage</th>\n",
       "      <th>Tumor Size</th>\n",
       "      <th>Estrogen Status</th>\n",
       "      <th>Progesterone Status</th>\n",
       "      <th>Regional Node Examined</th>\n",
       "      <th>Reginol Node Positive</th>\n",
       "      <th>Survival Months</th>\n",
       "      <th>Status</th>\n",
       "    </tr>\n",
       "  </thead>\n",
       "  <tbody>\n",
       "    <tr>\n",
       "      <th>0</th>\n",
       "      <td>68</td>\n",
       "      <td>White</td>\n",
       "      <td>Married</td>\n",
       "      <td>T1</td>\n",
       "      <td>N1</td>\n",
       "      <td>IIA</td>\n",
       "      <td>Poorly differentiated</td>\n",
       "      <td>3</td>\n",
       "      <td>Regional</td>\n",
       "      <td>4</td>\n",
       "      <td>Positive</td>\n",
       "      <td>Positive</td>\n",
       "      <td>24</td>\n",
       "      <td>1</td>\n",
       "      <td>60</td>\n",
       "      <td>Alive</td>\n",
       "    </tr>\n",
       "    <tr>\n",
       "      <th>1</th>\n",
       "      <td>50</td>\n",
       "      <td>White</td>\n",
       "      <td>Married</td>\n",
       "      <td>T2</td>\n",
       "      <td>N2</td>\n",
       "      <td>IIIA</td>\n",
       "      <td>Moderately differentiated</td>\n",
       "      <td>2</td>\n",
       "      <td>Regional</td>\n",
       "      <td>35</td>\n",
       "      <td>Positive</td>\n",
       "      <td>Positive</td>\n",
       "      <td>14</td>\n",
       "      <td>5</td>\n",
       "      <td>62</td>\n",
       "      <td>Alive</td>\n",
       "    </tr>\n",
       "    <tr>\n",
       "      <th>2</th>\n",
       "      <td>58</td>\n",
       "      <td>White</td>\n",
       "      <td>Divorced</td>\n",
       "      <td>T3</td>\n",
       "      <td>N3</td>\n",
       "      <td>IIIC</td>\n",
       "      <td>Moderately differentiated</td>\n",
       "      <td>2</td>\n",
       "      <td>Regional</td>\n",
       "      <td>63</td>\n",
       "      <td>Positive</td>\n",
       "      <td>Positive</td>\n",
       "      <td>14</td>\n",
       "      <td>7</td>\n",
       "      <td>75</td>\n",
       "      <td>Alive</td>\n",
       "    </tr>\n",
       "    <tr>\n",
       "      <th>3</th>\n",
       "      <td>58</td>\n",
       "      <td>White</td>\n",
       "      <td>Married</td>\n",
       "      <td>T1</td>\n",
       "      <td>N1</td>\n",
       "      <td>IIA</td>\n",
       "      <td>Poorly differentiated</td>\n",
       "      <td>3</td>\n",
       "      <td>Regional</td>\n",
       "      <td>18</td>\n",
       "      <td>Positive</td>\n",
       "      <td>Positive</td>\n",
       "      <td>2</td>\n",
       "      <td>1</td>\n",
       "      <td>84</td>\n",
       "      <td>Alive</td>\n",
       "    </tr>\n",
       "    <tr>\n",
       "      <th>4</th>\n",
       "      <td>47</td>\n",
       "      <td>White</td>\n",
       "      <td>Married</td>\n",
       "      <td>T2</td>\n",
       "      <td>N1</td>\n",
       "      <td>IIB</td>\n",
       "      <td>Poorly differentiated</td>\n",
       "      <td>3</td>\n",
       "      <td>Regional</td>\n",
       "      <td>41</td>\n",
       "      <td>Positive</td>\n",
       "      <td>Positive</td>\n",
       "      <td>3</td>\n",
       "      <td>1</td>\n",
       "      <td>50</td>\n",
       "      <td>Alive</td>\n",
       "    </tr>\n",
       "  </tbody>\n",
       "</table>\n",
       "</div>"
      ],
      "text/plain": [
       "   Age   Race Marital Status T Stage  N Stage 6th Stage  \\\n",
       "0   68  White        Married       T1      N1       IIA   \n",
       "1   50  White        Married       T2      N2      IIIA   \n",
       "2   58  White       Divorced       T3      N3      IIIC   \n",
       "3   58  White        Married       T1      N1       IIA   \n",
       "4   47  White        Married       T2      N1       IIB   \n",
       "\n",
       "               differentiate Grade   A Stage  Tumor Size Estrogen Status  \\\n",
       "0      Poorly differentiated     3  Regional           4        Positive   \n",
       "1  Moderately differentiated     2  Regional          35        Positive   \n",
       "2  Moderately differentiated     2  Regional          63        Positive   \n",
       "3      Poorly differentiated     3  Regional          18        Positive   \n",
       "4      Poorly differentiated     3  Regional          41        Positive   \n",
       "\n",
       "  Progesterone Status  Regional Node Examined  Reginol Node Positive  \\\n",
       "0            Positive                      24                      1   \n",
       "1            Positive                      14                      5   \n",
       "2            Positive                      14                      7   \n",
       "3            Positive                       2                      1   \n",
       "4            Positive                       3                      1   \n",
       "\n",
       "   Survival Months Status  \n",
       "0               60  Alive  \n",
       "1               62  Alive  \n",
       "2               75  Alive  \n",
       "3               84  Alive  \n",
       "4               50  Alive  "
      ]
     },
     "execution_count": 278,
     "metadata": {},
     "output_type": "execute_result"
    }
   ],
   "source": [
    "data.head()"
   ]
  },
  {
   "attachments": {},
   "cell_type": "markdown",
   "id": "bbf72867",
   "metadata": {},
   "source": [
    "## Getting information about data."
   ]
  },
  {
   "cell_type": "code",
   "execution_count": 279,
   "id": "08f0235c",
   "metadata": {},
   "outputs": [
    {
     "data": {
      "text/plain": [
       "Age                       0\n",
       "Race                      0\n",
       "Marital Status            0\n",
       "T Stage                   0\n",
       "N Stage                   0\n",
       "6th Stage                 0\n",
       "differentiate             0\n",
       "Grade                     0\n",
       "A Stage                   0\n",
       "Tumor Size                0\n",
       "Estrogen Status           0\n",
       "Progesterone Status       0\n",
       "Regional Node Examined    0\n",
       "Reginol Node Positive     0\n",
       "Survival Months           0\n",
       "Status                    0\n",
       "dtype: int64"
      ]
     },
     "execution_count": 279,
     "metadata": {},
     "output_type": "execute_result"
    }
   ],
   "source": [
    "data.isnull().sum()"
   ]
  },
  {
   "cell_type": "code",
   "execution_count": 280,
   "id": "42e344b8",
   "metadata": {},
   "outputs": [
    {
     "data": {
      "text/plain": [
       "Index(['Age', 'Race', 'Marital Status', 'T Stage ', 'N Stage', '6th Stage',\n",
       "       'differentiate', 'Grade', 'A Stage', 'Tumor Size', 'Estrogen Status',\n",
       "       'Progesterone Status', 'Regional Node Examined',\n",
       "       'Reginol Node Positive', 'Survival Months', 'Status'],\n",
       "      dtype='object')"
      ]
     },
     "execution_count": 280,
     "metadata": {},
     "output_type": "execute_result"
    }
   ],
   "source": [
    "data.columns"
   ]
  },
  {
   "cell_type": "code",
   "execution_count": 281,
   "id": "d7fc78c9",
   "metadata": {},
   "outputs": [
    {
     "data": {
      "text/plain": [
       "Alive    3408\n",
       "Dead      616\n",
       "Name: Status, dtype: int64"
      ]
     },
     "execution_count": 281,
     "metadata": {},
     "output_type": "execute_result"
    }
   ],
   "source": [
    "data['Status'].value_counts()"
   ]
  },
  {
   "cell_type": "code",
   "execution_count": 282,
   "id": "8551bacc",
   "metadata": {},
   "outputs": [
    {
     "data": {
      "text/html": [
       "<div>\n",
       "<style scoped>\n",
       "    .dataframe tbody tr th:only-of-type {\n",
       "        vertical-align: middle;\n",
       "    }\n",
       "\n",
       "    .dataframe tbody tr th {\n",
       "        vertical-align: top;\n",
       "    }\n",
       "\n",
       "    .dataframe thead th {\n",
       "        text-align: right;\n",
       "    }\n",
       "</style>\n",
       "<table border=\"1\" class=\"dataframe\">\n",
       "  <thead>\n",
       "    <tr style=\"text-align: right;\">\n",
       "      <th></th>\n",
       "      <th>Age</th>\n",
       "      <th>Tumor Size</th>\n",
       "      <th>Regional Node Examined</th>\n",
       "      <th>Reginol Node Positive</th>\n",
       "      <th>Survival Months</th>\n",
       "    </tr>\n",
       "  </thead>\n",
       "  <tbody>\n",
       "    <tr>\n",
       "      <th>count</th>\n",
       "      <td>4024.000000</td>\n",
       "      <td>4024.000000</td>\n",
       "      <td>4024.000000</td>\n",
       "      <td>4024.000000</td>\n",
       "      <td>4024.000000</td>\n",
       "    </tr>\n",
       "    <tr>\n",
       "      <th>mean</th>\n",
       "      <td>53.972167</td>\n",
       "      <td>30.473658</td>\n",
       "      <td>14.357107</td>\n",
       "      <td>4.158052</td>\n",
       "      <td>71.297962</td>\n",
       "    </tr>\n",
       "    <tr>\n",
       "      <th>std</th>\n",
       "      <td>8.963134</td>\n",
       "      <td>21.119696</td>\n",
       "      <td>8.099675</td>\n",
       "      <td>5.109331</td>\n",
       "      <td>22.921430</td>\n",
       "    </tr>\n",
       "    <tr>\n",
       "      <th>min</th>\n",
       "      <td>30.000000</td>\n",
       "      <td>1.000000</td>\n",
       "      <td>1.000000</td>\n",
       "      <td>1.000000</td>\n",
       "      <td>1.000000</td>\n",
       "    </tr>\n",
       "    <tr>\n",
       "      <th>25%</th>\n",
       "      <td>47.000000</td>\n",
       "      <td>16.000000</td>\n",
       "      <td>9.000000</td>\n",
       "      <td>1.000000</td>\n",
       "      <td>56.000000</td>\n",
       "    </tr>\n",
       "    <tr>\n",
       "      <th>50%</th>\n",
       "      <td>54.000000</td>\n",
       "      <td>25.000000</td>\n",
       "      <td>14.000000</td>\n",
       "      <td>2.000000</td>\n",
       "      <td>73.000000</td>\n",
       "    </tr>\n",
       "    <tr>\n",
       "      <th>75%</th>\n",
       "      <td>61.000000</td>\n",
       "      <td>38.000000</td>\n",
       "      <td>19.000000</td>\n",
       "      <td>5.000000</td>\n",
       "      <td>90.000000</td>\n",
       "    </tr>\n",
       "    <tr>\n",
       "      <th>max</th>\n",
       "      <td>69.000000</td>\n",
       "      <td>140.000000</td>\n",
       "      <td>61.000000</td>\n",
       "      <td>46.000000</td>\n",
       "      <td>107.000000</td>\n",
       "    </tr>\n",
       "  </tbody>\n",
       "</table>\n",
       "</div>"
      ],
      "text/plain": [
       "               Age   Tumor Size  Regional Node Examined  \\\n",
       "count  4024.000000  4024.000000             4024.000000   \n",
       "mean     53.972167    30.473658               14.357107   \n",
       "std       8.963134    21.119696                8.099675   \n",
       "min      30.000000     1.000000                1.000000   \n",
       "25%      47.000000    16.000000                9.000000   \n",
       "50%      54.000000    25.000000               14.000000   \n",
       "75%      61.000000    38.000000               19.000000   \n",
       "max      69.000000   140.000000               61.000000   \n",
       "\n",
       "       Reginol Node Positive  Survival Months  \n",
       "count            4024.000000      4024.000000  \n",
       "mean                4.158052        71.297962  \n",
       "std                 5.109331        22.921430  \n",
       "min                 1.000000         1.000000  \n",
       "25%                 1.000000        56.000000  \n",
       "50%                 2.000000        73.000000  \n",
       "75%                 5.000000        90.000000  \n",
       "max                46.000000       107.000000  "
      ]
     },
     "execution_count": 282,
     "metadata": {},
     "output_type": "execute_result"
    }
   ],
   "source": [
    "data.describe()"
   ]
  },
  {
   "cell_type": "code",
   "execution_count": 283,
   "id": "1921b769",
   "metadata": {},
   "outputs": [
    {
     "name": "stdout",
     "output_type": "stream",
     "text": [
      "<class 'pandas.core.frame.DataFrame'>\n",
      "RangeIndex: 4024 entries, 0 to 4023\n",
      "Data columns (total 16 columns):\n",
      " #   Column                  Non-Null Count  Dtype \n",
      "---  ------                  --------------  ----- \n",
      " 0   Age                     4024 non-null   int64 \n",
      " 1   Race                    4024 non-null   object\n",
      " 2   Marital Status          4024 non-null   object\n",
      " 3   T Stage                 4024 non-null   object\n",
      " 4   N Stage                 4024 non-null   object\n",
      " 5   6th Stage               4024 non-null   object\n",
      " 6   differentiate           4024 non-null   object\n",
      " 7   Grade                   4024 non-null   object\n",
      " 8   A Stage                 4024 non-null   object\n",
      " 9   Tumor Size              4024 non-null   int64 \n",
      " 10  Estrogen Status         4024 non-null   object\n",
      " 11  Progesterone Status     4024 non-null   object\n",
      " 12  Regional Node Examined  4024 non-null   int64 \n",
      " 13  Reginol Node Positive   4024 non-null   int64 \n",
      " 14  Survival Months         4024 non-null   int64 \n",
      " 15  Status                  4024 non-null   object\n",
      "dtypes: int64(5), object(11)\n",
      "memory usage: 503.1+ KB\n"
     ]
    }
   ],
   "source": [
    "data.info()"
   ]
  },
  {
   "cell_type": "code",
   "execution_count": 284,
   "id": "f1fabab6",
   "metadata": {},
   "outputs": [
    {
     "data": {
      "text/plain": [
       "White    3413\n",
       "Other     320\n",
       "Black     291\n",
       "Name: Race, dtype: int64"
      ]
     },
     "execution_count": 284,
     "metadata": {},
     "output_type": "execute_result"
    }
   ],
   "source": [
    "data['Race'].value_counts()"
   ]
  },
  {
   "cell_type": "code",
   "execution_count": 285,
   "id": "078a3467",
   "metadata": {},
   "outputs": [
    {
     "data": {
      "text/plain": [
       "Married      2643\n",
       "Single        615\n",
       "Divorced      486\n",
       "Widowed       235\n",
       "Separated      45\n",
       "Name: Marital Status, dtype: int64"
      ]
     },
     "execution_count": 285,
     "metadata": {},
     "output_type": "execute_result"
    }
   ],
   "source": [
    "data['Marital Status'].value_counts()"
   ]
  },
  {
   "cell_type": "code",
   "execution_count": 286,
   "id": "8942fbda",
   "metadata": {},
   "outputs": [
    {
     "data": {
      "text/plain": [
       "Alive    3408\n",
       "Dead      616\n",
       "Name: Status, dtype: int64"
      ]
     },
     "execution_count": 286,
     "metadata": {},
     "output_type": "execute_result"
    }
   ],
   "source": [
    "data['Status'].value_counts()"
   ]
  },
  {
   "cell_type": "code",
   "execution_count": 287,
   "id": "a8556196",
   "metadata": {},
   "outputs": [
    {
     "data": {
      "text/plain": [
       "T2    1786\n",
       "T1    1603\n",
       "T3     533\n",
       "T4     102\n",
       "Name: T Stage , dtype: int64"
      ]
     },
     "execution_count": 287,
     "metadata": {},
     "output_type": "execute_result"
    }
   ],
   "source": [
    "data['T Stage '].value_counts()"
   ]
  },
  {
   "cell_type": "code",
   "execution_count": 288,
   "id": "1cc6a6a3",
   "metadata": {},
   "outputs": [
    {
     "data": {
      "text/plain": [
       "Moderately differentiated    2351\n",
       "Poorly differentiated        1111\n",
       "Well differentiated           543\n",
       "Undifferentiated               19\n",
       "Name: differentiate, dtype: int64"
      ]
     },
     "execution_count": 288,
     "metadata": {},
     "output_type": "execute_result"
    }
   ],
   "source": [
    "data['differentiate'].value_counts()"
   ]
  },
  {
   "cell_type": "code",
   "execution_count": 289,
   "id": "4d5f7d82",
   "metadata": {},
   "outputs": [
    {
     "data": {
      "text/plain": [
       "2                        2351\n",
       "3                        1111\n",
       "1                         543\n",
       " anaplastic; Grade IV      19\n",
       "Name: Grade, dtype: int64"
      ]
     },
     "execution_count": 289,
     "metadata": {},
     "output_type": "execute_result"
    }
   ],
   "source": [
    "data['Grade'].value_counts()"
   ]
  },
  {
   "cell_type": "code",
   "execution_count": 290,
   "id": "bca46fe2",
   "metadata": {},
   "outputs": [
    {
     "data": {
      "text/plain": [
       "Regional    3932\n",
       "Distant       92\n",
       "Name: A Stage, dtype: int64"
      ]
     },
     "execution_count": 290,
     "metadata": {},
     "output_type": "execute_result"
    }
   ],
   "source": [
    "data['A Stage'].value_counts()"
   ]
  },
  {
   "cell_type": "code",
   "execution_count": 291,
   "id": "ed1c8009",
   "metadata": {},
   "outputs": [
    {
     "data": {
      "text/plain": [
       "N1    2732\n",
       "N2     820\n",
       "N3     472\n",
       "Name: N Stage, dtype: int64"
      ]
     },
     "execution_count": 291,
     "metadata": {},
     "output_type": "execute_result"
    }
   ],
   "source": [
    "data['N Stage'].value_counts()"
   ]
  },
  {
   "cell_type": "code",
   "execution_count": 292,
   "id": "19c4a095",
   "metadata": {},
   "outputs": [
    {
     "data": {
      "text/plain": [
       "IIA     1305\n",
       "IIB     1130\n",
       "IIIA    1050\n",
       "IIIC     472\n",
       "IIIB      67\n",
       "Name: 6th Stage, dtype: int64"
      ]
     },
     "execution_count": 292,
     "metadata": {},
     "output_type": "execute_result"
    }
   ],
   "source": [
    "data['6th Stage'].value_counts()"
   ]
  },
  {
   "cell_type": "code",
   "execution_count": 293,
   "id": "1214a7fc",
   "metadata": {},
   "outputs": [
    {
     "data": {
      "text/plain": [
       "Positive    3755\n",
       "Negative     269\n",
       "Name: Estrogen Status, dtype: int64"
      ]
     },
     "execution_count": 293,
     "metadata": {},
     "output_type": "execute_result"
    }
   ],
   "source": [
    "data['Estrogen Status'].value_counts()"
   ]
  },
  {
   "attachments": {},
   "cell_type": "markdown",
   "id": "f645c2a1",
   "metadata": {},
   "source": [
    "## Data Preprocessing"
   ]
  },
  {
   "cell_type": "code",
   "execution_count": 294,
   "id": "619bdcfe",
   "metadata": {},
   "outputs": [],
   "source": [
    "def race_convert(var):\n",
    "    if var == \"White\":\n",
    "        return 0\n",
    "    elif var == \"Black\":\n",
    "        return 1\n",
    "    else:\n",
    "        return 2\n",
    "\n",
    "def marital_status_convert(var):\n",
    "    if var == \"Married\":\n",
    "        return 0\n",
    "    elif var == \"Single\":\n",
    "        return 1\n",
    "    elif var == \"Divorced\":\n",
    "        return 2\n",
    "    elif var == \"Widowed\":\n",
    "        return 3\n",
    "    else:\n",
    "        return 4\n",
    "\n",
    "def t_stage_convert(var):\n",
    "    if var == \"T1\":\n",
    "        return 0\n",
    "    elif var == \"T2\":\n",
    "        return 1\n",
    "    elif var == \"T3\":\n",
    "        return 2\n",
    "    elif var == \"T4\":\n",
    "        return 3\n",
    "    \n",
    "def n_stage_convert(var):\n",
    "    if var == \"N1\":\n",
    "        return 0\n",
    "    elif var == \"N2\":\n",
    "        return 1\n",
    "    elif var == \"N3\":\n",
    "        return 2\n",
    "\n",
    "def a_stage_convert(var):\n",
    "    if var == \"Regional\":\n",
    "        return 0\n",
    "    elif var == \"Distant\":\n",
    "        return 1\n",
    "\n",
    "def estrogen_status(var):\n",
    "    if var == \"Positive\":\n",
    "        return 0\n",
    "    elif var == \"Negative\":\n",
    "        return 1\n",
    "\n",
    "def grade_convert(var):\n",
    "    if var == \"1\":\n",
    "        return 0\n",
    "    elif var == \"2\":\n",
    "        return 1\n",
    "    elif var == \"3\":\n",
    "        return 2\n",
    "    elif var == \" anaplastic; Grade IV\":\n",
    "        return 3\n",
    "\n",
    "def sixth_stage_convert(var):\n",
    "    if var == \"IIA\":\n",
    "        return 0\n",
    "    elif var == \"IIB\":\n",
    "        return 1\n",
    "    elif var == \"IIIA\":\n",
    "        return 2\n",
    "    elif var == \"IIIB\":\n",
    "        return 3\n",
    "    elif var == \"IIIC\":\n",
    "        return 3\n",
    "\n",
    "def differentiate_convert(var):\n",
    "    if var == \"Moderately differentiated\":\n",
    "        return 0\n",
    "    elif var == \"Poorly differentiated\":\n",
    "        return 1\n",
    "    elif var == \"Well differentiated\":\n",
    "        return 2\n",
    "    elif var == \"Undifferentiated\":\n",
    "        return 3\n",
    "\n",
    "def progesterone_status_convert(var):\n",
    "    if var == \"Positive\":\n",
    "        return 0\n",
    "    elif var == \"Negative\":\n",
    "        return 1\n",
    "\n",
    "def status_convert(var):\n",
    "    if var == \"Alive\":\n",
    "        return 0\n",
    "    elif var == \"Dead\":\n",
    "        return 1"
   ]
  },
  {
   "cell_type": "code",
   "execution_count": 295,
   "id": "2308418a",
   "metadata": {},
   "outputs": [],
   "source": [
    "data['Race'] = data['Race'].apply(race_convert)\n",
    "data['Marital Status'] = data['Marital Status'].apply(marital_status_convert)\n",
    "data['T Stage '] = data['T Stage '].apply(t_stage_convert)\n",
    "data['N Stage'] = data['N Stage'].apply(n_stage_convert)\n",
    "data['A Stage'] = data['A Stage'].apply(a_stage_convert)\n",
    "data['Estrogen Status'] = data['Estrogen Status'].apply(estrogen_status)\n",
    "data['Grade'] = data['Grade'].apply(grade_convert)\n",
    "data['6th Stage'] = data['6th Stage'].apply(sixth_stage_convert)\n",
    "data['differentiate'] = data['differentiate'].apply(differentiate_convert)\n",
    "data['Progesterone Status'] = data['Progesterone Status'].apply(progesterone_status_convert)\n",
    "data['Status'] = data['Status'].apply(status_convert)"
   ]
  },
  {
   "cell_type": "code",
   "execution_count": 296,
   "id": "4741279f",
   "metadata": {},
   "outputs": [
    {
     "data": {
      "text/html": [
       "<div>\n",
       "<style scoped>\n",
       "    .dataframe tbody tr th:only-of-type {\n",
       "        vertical-align: middle;\n",
       "    }\n",
       "\n",
       "    .dataframe tbody tr th {\n",
       "        vertical-align: top;\n",
       "    }\n",
       "\n",
       "    .dataframe thead th {\n",
       "        text-align: right;\n",
       "    }\n",
       "</style>\n",
       "<table border=\"1\" class=\"dataframe\">\n",
       "  <thead>\n",
       "    <tr style=\"text-align: right;\">\n",
       "      <th></th>\n",
       "      <th>Age</th>\n",
       "      <th>Race</th>\n",
       "      <th>Marital Status</th>\n",
       "      <th>T Stage</th>\n",
       "      <th>N Stage</th>\n",
       "      <th>6th Stage</th>\n",
       "      <th>differentiate</th>\n",
       "      <th>Grade</th>\n",
       "      <th>A Stage</th>\n",
       "      <th>Tumor Size</th>\n",
       "      <th>Estrogen Status</th>\n",
       "      <th>Progesterone Status</th>\n",
       "      <th>Regional Node Examined</th>\n",
       "      <th>Reginol Node Positive</th>\n",
       "      <th>Survival Months</th>\n",
       "      <th>Status</th>\n",
       "    </tr>\n",
       "  </thead>\n",
       "  <tbody>\n",
       "    <tr>\n",
       "      <th>0</th>\n",
       "      <td>68</td>\n",
       "      <td>0</td>\n",
       "      <td>0</td>\n",
       "      <td>0</td>\n",
       "      <td>0</td>\n",
       "      <td>0</td>\n",
       "      <td>1</td>\n",
       "      <td>2</td>\n",
       "      <td>0</td>\n",
       "      <td>4</td>\n",
       "      <td>0</td>\n",
       "      <td>0</td>\n",
       "      <td>24</td>\n",
       "      <td>1</td>\n",
       "      <td>60</td>\n",
       "      <td>0</td>\n",
       "    </tr>\n",
       "    <tr>\n",
       "      <th>1</th>\n",
       "      <td>50</td>\n",
       "      <td>0</td>\n",
       "      <td>0</td>\n",
       "      <td>1</td>\n",
       "      <td>1</td>\n",
       "      <td>2</td>\n",
       "      <td>0</td>\n",
       "      <td>1</td>\n",
       "      <td>0</td>\n",
       "      <td>35</td>\n",
       "      <td>0</td>\n",
       "      <td>0</td>\n",
       "      <td>14</td>\n",
       "      <td>5</td>\n",
       "      <td>62</td>\n",
       "      <td>0</td>\n",
       "    </tr>\n",
       "    <tr>\n",
       "      <th>2</th>\n",
       "      <td>58</td>\n",
       "      <td>0</td>\n",
       "      <td>2</td>\n",
       "      <td>2</td>\n",
       "      <td>2</td>\n",
       "      <td>3</td>\n",
       "      <td>0</td>\n",
       "      <td>1</td>\n",
       "      <td>0</td>\n",
       "      <td>63</td>\n",
       "      <td>0</td>\n",
       "      <td>0</td>\n",
       "      <td>14</td>\n",
       "      <td>7</td>\n",
       "      <td>75</td>\n",
       "      <td>0</td>\n",
       "    </tr>\n",
       "    <tr>\n",
       "      <th>3</th>\n",
       "      <td>58</td>\n",
       "      <td>0</td>\n",
       "      <td>0</td>\n",
       "      <td>0</td>\n",
       "      <td>0</td>\n",
       "      <td>0</td>\n",
       "      <td>1</td>\n",
       "      <td>2</td>\n",
       "      <td>0</td>\n",
       "      <td>18</td>\n",
       "      <td>0</td>\n",
       "      <td>0</td>\n",
       "      <td>2</td>\n",
       "      <td>1</td>\n",
       "      <td>84</td>\n",
       "      <td>0</td>\n",
       "    </tr>\n",
       "    <tr>\n",
       "      <th>4</th>\n",
       "      <td>47</td>\n",
       "      <td>0</td>\n",
       "      <td>0</td>\n",
       "      <td>1</td>\n",
       "      <td>0</td>\n",
       "      <td>1</td>\n",
       "      <td>1</td>\n",
       "      <td>2</td>\n",
       "      <td>0</td>\n",
       "      <td>41</td>\n",
       "      <td>0</td>\n",
       "      <td>0</td>\n",
       "      <td>3</td>\n",
       "      <td>1</td>\n",
       "      <td>50</td>\n",
       "      <td>0</td>\n",
       "    </tr>\n",
       "    <tr>\n",
       "      <th>...</th>\n",
       "      <td>...</td>\n",
       "      <td>...</td>\n",
       "      <td>...</td>\n",
       "      <td>...</td>\n",
       "      <td>...</td>\n",
       "      <td>...</td>\n",
       "      <td>...</td>\n",
       "      <td>...</td>\n",
       "      <td>...</td>\n",
       "      <td>...</td>\n",
       "      <td>...</td>\n",
       "      <td>...</td>\n",
       "      <td>...</td>\n",
       "      <td>...</td>\n",
       "      <td>...</td>\n",
       "      <td>...</td>\n",
       "    </tr>\n",
       "    <tr>\n",
       "      <th>4019</th>\n",
       "      <td>62</td>\n",
       "      <td>2</td>\n",
       "      <td>0</td>\n",
       "      <td>0</td>\n",
       "      <td>0</td>\n",
       "      <td>0</td>\n",
       "      <td>0</td>\n",
       "      <td>1</td>\n",
       "      <td>0</td>\n",
       "      <td>9</td>\n",
       "      <td>0</td>\n",
       "      <td>0</td>\n",
       "      <td>1</td>\n",
       "      <td>1</td>\n",
       "      <td>49</td>\n",
       "      <td>0</td>\n",
       "    </tr>\n",
       "    <tr>\n",
       "      <th>4020</th>\n",
       "      <td>56</td>\n",
       "      <td>0</td>\n",
       "      <td>2</td>\n",
       "      <td>1</td>\n",
       "      <td>1</td>\n",
       "      <td>2</td>\n",
       "      <td>0</td>\n",
       "      <td>1</td>\n",
       "      <td>0</td>\n",
       "      <td>46</td>\n",
       "      <td>0</td>\n",
       "      <td>0</td>\n",
       "      <td>14</td>\n",
       "      <td>8</td>\n",
       "      <td>69</td>\n",
       "      <td>0</td>\n",
       "    </tr>\n",
       "    <tr>\n",
       "      <th>4021</th>\n",
       "      <td>68</td>\n",
       "      <td>0</td>\n",
       "      <td>0</td>\n",
       "      <td>1</td>\n",
       "      <td>0</td>\n",
       "      <td>1</td>\n",
       "      <td>0</td>\n",
       "      <td>1</td>\n",
       "      <td>0</td>\n",
       "      <td>22</td>\n",
       "      <td>0</td>\n",
       "      <td>1</td>\n",
       "      <td>11</td>\n",
       "      <td>3</td>\n",
       "      <td>69</td>\n",
       "      <td>0</td>\n",
       "    </tr>\n",
       "    <tr>\n",
       "      <th>4022</th>\n",
       "      <td>58</td>\n",
       "      <td>1</td>\n",
       "      <td>2</td>\n",
       "      <td>1</td>\n",
       "      <td>0</td>\n",
       "      <td>1</td>\n",
       "      <td>0</td>\n",
       "      <td>1</td>\n",
       "      <td>0</td>\n",
       "      <td>44</td>\n",
       "      <td>0</td>\n",
       "      <td>0</td>\n",
       "      <td>11</td>\n",
       "      <td>1</td>\n",
       "      <td>72</td>\n",
       "      <td>0</td>\n",
       "    </tr>\n",
       "    <tr>\n",
       "      <th>4023</th>\n",
       "      <td>46</td>\n",
       "      <td>0</td>\n",
       "      <td>0</td>\n",
       "      <td>1</td>\n",
       "      <td>0</td>\n",
       "      <td>1</td>\n",
       "      <td>0</td>\n",
       "      <td>1</td>\n",
       "      <td>0</td>\n",
       "      <td>30</td>\n",
       "      <td>0</td>\n",
       "      <td>0</td>\n",
       "      <td>7</td>\n",
       "      <td>2</td>\n",
       "      <td>100</td>\n",
       "      <td>0</td>\n",
       "    </tr>\n",
       "  </tbody>\n",
       "</table>\n",
       "<p>4024 rows × 16 columns</p>\n",
       "</div>"
      ],
      "text/plain": [
       "      Age  Race  Marital Status  T Stage   N Stage  6th Stage  differentiate  \\\n",
       "0      68     0               0         0        0          0              1   \n",
       "1      50     0               0         1        1          2              0   \n",
       "2      58     0               2         2        2          3              0   \n",
       "3      58     0               0         0        0          0              1   \n",
       "4      47     0               0         1        0          1              1   \n",
       "...   ...   ...             ...       ...      ...        ...            ...   \n",
       "4019   62     2               0         0        0          0              0   \n",
       "4020   56     0               2         1        1          2              0   \n",
       "4021   68     0               0         1        0          1              0   \n",
       "4022   58     1               2         1        0          1              0   \n",
       "4023   46     0               0         1        0          1              0   \n",
       "\n",
       "      Grade  A Stage  Tumor Size  Estrogen Status  Progesterone Status  \\\n",
       "0         2        0           4                0                    0   \n",
       "1         1        0          35                0                    0   \n",
       "2         1        0          63                0                    0   \n",
       "3         2        0          18                0                    0   \n",
       "4         2        0          41                0                    0   \n",
       "...     ...      ...         ...              ...                  ...   \n",
       "4019      1        0           9                0                    0   \n",
       "4020      1        0          46                0                    0   \n",
       "4021      1        0          22                0                    1   \n",
       "4022      1        0          44                0                    0   \n",
       "4023      1        0          30                0                    0   \n",
       "\n",
       "      Regional Node Examined  Reginol Node Positive  Survival Months  Status  \n",
       "0                         24                      1               60       0  \n",
       "1                         14                      5               62       0  \n",
       "2                         14                      7               75       0  \n",
       "3                          2                      1               84       0  \n",
       "4                          3                      1               50       0  \n",
       "...                      ...                    ...              ...     ...  \n",
       "4019                       1                      1               49       0  \n",
       "4020                      14                      8               69       0  \n",
       "4021                      11                      3               69       0  \n",
       "4022                      11                      1               72       0  \n",
       "4023                       7                      2              100       0  \n",
       "\n",
       "[4024 rows x 16 columns]"
      ]
     },
     "execution_count": 296,
     "metadata": {},
     "output_type": "execute_result"
    }
   ],
   "source": [
    "data"
   ]
  },
  {
   "cell_type": "code",
   "execution_count": 297,
   "id": "1d88f501",
   "metadata": {},
   "outputs": [
    {
     "name": "stdout",
     "output_type": "stream",
     "text": [
      "<class 'pandas.core.frame.DataFrame'>\n",
      "RangeIndex: 4024 entries, 0 to 4023\n",
      "Data columns (total 16 columns):\n",
      " #   Column                  Non-Null Count  Dtype\n",
      "---  ------                  --------------  -----\n",
      " 0   Age                     4024 non-null   int64\n",
      " 1   Race                    4024 non-null   int64\n",
      " 2   Marital Status          4024 non-null   int64\n",
      " 3   T Stage                 4024 non-null   int64\n",
      " 4   N Stage                 4024 non-null   int64\n",
      " 5   6th Stage               4024 non-null   int64\n",
      " 6   differentiate           4024 non-null   int64\n",
      " 7   Grade                   4024 non-null   int64\n",
      " 8   A Stage                 4024 non-null   int64\n",
      " 9   Tumor Size              4024 non-null   int64\n",
      " 10  Estrogen Status         4024 non-null   int64\n",
      " 11  Progesterone Status     4024 non-null   int64\n",
      " 12  Regional Node Examined  4024 non-null   int64\n",
      " 13  Reginol Node Positive   4024 non-null   int64\n",
      " 14  Survival Months         4024 non-null   int64\n",
      " 15  Status                  4024 non-null   int64\n",
      "dtypes: int64(16)\n",
      "memory usage: 503.1 KB\n"
     ]
    }
   ],
   "source": [
    "data.info()"
   ]
  },
  {
   "cell_type": "code",
   "execution_count": 298,
   "id": "9a6ba11c",
   "metadata": {},
   "outputs": [
    {
     "data": {
      "text/html": [
       "<div>\n",
       "<style scoped>\n",
       "    .dataframe tbody tr th:only-of-type {\n",
       "        vertical-align: middle;\n",
       "    }\n",
       "\n",
       "    .dataframe tbody tr th {\n",
       "        vertical-align: top;\n",
       "    }\n",
       "\n",
       "    .dataframe thead th {\n",
       "        text-align: right;\n",
       "    }\n",
       "</style>\n",
       "<table border=\"1\" class=\"dataframe\">\n",
       "  <thead>\n",
       "    <tr style=\"text-align: right;\">\n",
       "      <th></th>\n",
       "      <th>Age</th>\n",
       "      <th>Race</th>\n",
       "      <th>Marital Status</th>\n",
       "      <th>T Stage</th>\n",
       "      <th>N Stage</th>\n",
       "      <th>6th Stage</th>\n",
       "      <th>differentiate</th>\n",
       "      <th>Grade</th>\n",
       "      <th>A Stage</th>\n",
       "      <th>Tumor Size</th>\n",
       "      <th>Estrogen Status</th>\n",
       "      <th>Progesterone Status</th>\n",
       "      <th>Regional Node Examined</th>\n",
       "      <th>Reginol Node Positive</th>\n",
       "      <th>Survival Months</th>\n",
       "      <th>Status</th>\n",
       "    </tr>\n",
       "  </thead>\n",
       "  <tbody>\n",
       "    <tr>\n",
       "      <th>count</th>\n",
       "      <td>4024.000000</td>\n",
       "      <td>4024.000000</td>\n",
       "      <td>4024.000000</td>\n",
       "      <td>4024.000000</td>\n",
       "      <td>4024.000000</td>\n",
       "      <td>4024.000000</td>\n",
       "      <td>4024.000000</td>\n",
       "      <td>4024.000000</td>\n",
       "      <td>4024.000000</td>\n",
       "      <td>4024.000000</td>\n",
       "      <td>4024.000000</td>\n",
       "      <td>4024.000000</td>\n",
       "      <td>4024.000000</td>\n",
       "      <td>4024.000000</td>\n",
       "      <td>4024.000000</td>\n",
       "      <td>4024.000000</td>\n",
       "    </tr>\n",
       "    <tr>\n",
       "      <th>mean</th>\n",
       "      <td>53.972167</td>\n",
       "      <td>0.231362</td>\n",
       "      <td>1.072813</td>\n",
       "      <td>0.784791</td>\n",
       "      <td>0.438370</td>\n",
       "      <td>1.204523</td>\n",
       "      <td>0.560139</td>\n",
       "      <td>1.150596</td>\n",
       "      <td>0.022863</td>\n",
       "      <td>30.473658</td>\n",
       "      <td>0.066849</td>\n",
       "      <td>0.173459</td>\n",
       "      <td>14.357107</td>\n",
       "      <td>4.158052</td>\n",
       "      <td>71.297962</td>\n",
       "      <td>0.153082</td>\n",
       "    </tr>\n",
       "    <tr>\n",
       "      <th>std</th>\n",
       "      <td>8.963134</td>\n",
       "      <td>0.580485</td>\n",
       "      <td>1.575640</td>\n",
       "      <td>0.765531</td>\n",
       "      <td>0.693479</td>\n",
       "      <td>1.038972</td>\n",
       "      <td>0.738058</td>\n",
       "      <td>0.638234</td>\n",
       "      <td>0.149485</td>\n",
       "      <td>21.119696</td>\n",
       "      <td>0.249791</td>\n",
       "      <td>0.378691</td>\n",
       "      <td>8.099675</td>\n",
       "      <td>5.109331</td>\n",
       "      <td>22.921430</td>\n",
       "      <td>0.360111</td>\n",
       "    </tr>\n",
       "    <tr>\n",
       "      <th>min</th>\n",
       "      <td>30.000000</td>\n",
       "      <td>0.000000</td>\n",
       "      <td>0.000000</td>\n",
       "      <td>0.000000</td>\n",
       "      <td>0.000000</td>\n",
       "      <td>0.000000</td>\n",
       "      <td>0.000000</td>\n",
       "      <td>0.000000</td>\n",
       "      <td>0.000000</td>\n",
       "      <td>1.000000</td>\n",
       "      <td>0.000000</td>\n",
       "      <td>0.000000</td>\n",
       "      <td>1.000000</td>\n",
       "      <td>1.000000</td>\n",
       "      <td>1.000000</td>\n",
       "      <td>0.000000</td>\n",
       "    </tr>\n",
       "    <tr>\n",
       "      <th>25%</th>\n",
       "      <td>47.000000</td>\n",
       "      <td>0.000000</td>\n",
       "      <td>0.000000</td>\n",
       "      <td>0.000000</td>\n",
       "      <td>0.000000</td>\n",
       "      <td>0.000000</td>\n",
       "      <td>0.000000</td>\n",
       "      <td>1.000000</td>\n",
       "      <td>0.000000</td>\n",
       "      <td>16.000000</td>\n",
       "      <td>0.000000</td>\n",
       "      <td>0.000000</td>\n",
       "      <td>9.000000</td>\n",
       "      <td>1.000000</td>\n",
       "      <td>56.000000</td>\n",
       "      <td>0.000000</td>\n",
       "    </tr>\n",
       "    <tr>\n",
       "      <th>50%</th>\n",
       "      <td>54.000000</td>\n",
       "      <td>0.000000</td>\n",
       "      <td>0.000000</td>\n",
       "      <td>1.000000</td>\n",
       "      <td>0.000000</td>\n",
       "      <td>1.000000</td>\n",
       "      <td>0.000000</td>\n",
       "      <td>1.000000</td>\n",
       "      <td>0.000000</td>\n",
       "      <td>25.000000</td>\n",
       "      <td>0.000000</td>\n",
       "      <td>0.000000</td>\n",
       "      <td>14.000000</td>\n",
       "      <td>2.000000</td>\n",
       "      <td>73.000000</td>\n",
       "      <td>0.000000</td>\n",
       "    </tr>\n",
       "    <tr>\n",
       "      <th>75%</th>\n",
       "      <td>61.000000</td>\n",
       "      <td>0.000000</td>\n",
       "      <td>2.000000</td>\n",
       "      <td>1.000000</td>\n",
       "      <td>1.000000</td>\n",
       "      <td>2.000000</td>\n",
       "      <td>1.000000</td>\n",
       "      <td>2.000000</td>\n",
       "      <td>0.000000</td>\n",
       "      <td>38.000000</td>\n",
       "      <td>0.000000</td>\n",
       "      <td>0.000000</td>\n",
       "      <td>19.000000</td>\n",
       "      <td>5.000000</td>\n",
       "      <td>90.000000</td>\n",
       "      <td>0.000000</td>\n",
       "    </tr>\n",
       "    <tr>\n",
       "      <th>max</th>\n",
       "      <td>69.000000</td>\n",
       "      <td>2.000000</td>\n",
       "      <td>4.000000</td>\n",
       "      <td>3.000000</td>\n",
       "      <td>2.000000</td>\n",
       "      <td>3.000000</td>\n",
       "      <td>3.000000</td>\n",
       "      <td>3.000000</td>\n",
       "      <td>1.000000</td>\n",
       "      <td>140.000000</td>\n",
       "      <td>1.000000</td>\n",
       "      <td>1.000000</td>\n",
       "      <td>61.000000</td>\n",
       "      <td>46.000000</td>\n",
       "      <td>107.000000</td>\n",
       "      <td>1.000000</td>\n",
       "    </tr>\n",
       "  </tbody>\n",
       "</table>\n",
       "</div>"
      ],
      "text/plain": [
       "               Age         Race  Marital Status     T Stage       N Stage  \\\n",
       "count  4024.000000  4024.000000     4024.000000  4024.000000  4024.000000   \n",
       "mean     53.972167     0.231362        1.072813     0.784791     0.438370   \n",
       "std       8.963134     0.580485        1.575640     0.765531     0.693479   \n",
       "min      30.000000     0.000000        0.000000     0.000000     0.000000   \n",
       "25%      47.000000     0.000000        0.000000     0.000000     0.000000   \n",
       "50%      54.000000     0.000000        0.000000     1.000000     0.000000   \n",
       "75%      61.000000     0.000000        2.000000     1.000000     1.000000   \n",
       "max      69.000000     2.000000        4.000000     3.000000     2.000000   \n",
       "\n",
       "         6th Stage  differentiate        Grade      A Stage   Tumor Size  \\\n",
       "count  4024.000000    4024.000000  4024.000000  4024.000000  4024.000000   \n",
       "mean      1.204523       0.560139     1.150596     0.022863    30.473658   \n",
       "std       1.038972       0.738058     0.638234     0.149485    21.119696   \n",
       "min       0.000000       0.000000     0.000000     0.000000     1.000000   \n",
       "25%       0.000000       0.000000     1.000000     0.000000    16.000000   \n",
       "50%       1.000000       0.000000     1.000000     0.000000    25.000000   \n",
       "75%       2.000000       1.000000     2.000000     0.000000    38.000000   \n",
       "max       3.000000       3.000000     3.000000     1.000000   140.000000   \n",
       "\n",
       "       Estrogen Status  Progesterone Status  Regional Node Examined  \\\n",
       "count      4024.000000          4024.000000             4024.000000   \n",
       "mean          0.066849             0.173459               14.357107   \n",
       "std           0.249791             0.378691                8.099675   \n",
       "min           0.000000             0.000000                1.000000   \n",
       "25%           0.000000             0.000000                9.000000   \n",
       "50%           0.000000             0.000000               14.000000   \n",
       "75%           0.000000             0.000000               19.000000   \n",
       "max           1.000000             1.000000               61.000000   \n",
       "\n",
       "       Reginol Node Positive  Survival Months       Status  \n",
       "count            4024.000000      4024.000000  4024.000000  \n",
       "mean                4.158052        71.297962     0.153082  \n",
       "std                 5.109331        22.921430     0.360111  \n",
       "min                 1.000000         1.000000     0.000000  \n",
       "25%                 1.000000        56.000000     0.000000  \n",
       "50%                 2.000000        73.000000     0.000000  \n",
       "75%                 5.000000        90.000000     0.000000  \n",
       "max                46.000000       107.000000     1.000000  "
      ]
     },
     "execution_count": 298,
     "metadata": {},
     "output_type": "execute_result"
    }
   ],
   "source": [
    "data.describe()"
   ]
  },
  {
   "attachments": {},
   "cell_type": "markdown",
   "id": "8503366f",
   "metadata": {},
   "source": [
    "## Data Visualization"
   ]
  },
  {
   "cell_type": "code",
   "execution_count": 299,
   "id": "079418b2",
   "metadata": {},
   "outputs": [
    {
     "data": {
      "text/plain": [
       "<AxesSubplot:>"
      ]
     },
     "execution_count": 299,
     "metadata": {},
     "output_type": "execute_result"
    },
    {
     "data": {
      "image/png": "[encoded data removed]",
      "text/plain": [
       "<Figure size 1440x1008 with 1 Axes>"
      ]
     },
     "metadata": {
      "needs_background": "light"
     },
     "output_type": "display_data"
    }
   ],
   "source": [
    "plt.figure(figsize=(20, 14))\n",
    "sns.boxplot(data=data[['Tumor Size', 'Regional Node Examined']])"
   ]
  },
  {
   "cell_type": "code",
   "execution_count": 300,
   "id": "8e326dc8",
   "metadata": {},
   "outputs": [
    {
     "data": {
      "text/plain": [
       "<AxesSubplot:>"
      ]
     },
     "execution_count": 300,
     "metadata": {},
     "output_type": "execute_result"
    },
    {
     "data": {
      "image/png": "[encoded data removed]",
      "text/plain": [
       "<Figure size 1440x1008 with 2 Axes>"
      ]
     },
     "metadata": {
      "needs_background": "light"
     },
     "output_type": "display_data"
    }
   ],
   "source": [
    "plt.figure(figsize = (20, 14))\n",
    "sns.heatmap(data.corr(), annot=True)"
   ]
  },
  {
   "cell_type": "code",
   "execution_count": 301,
   "id": "c7dfffc2",
   "metadata": {},
   "outputs": [
    {
     "data": {
      "text/html": [
       "<div>\n",
       "<style scoped>\n",
       "    .dataframe tbody tr th:only-of-type {\n",
       "        vertical-align: middle;\n",
       "    }\n",
       "\n",
       "    .dataframe tbody tr th {\n",
       "        vertical-align: top;\n",
       "    }\n",
       "\n",
       "    .dataframe thead th {\n",
       "        text-align: right;\n",
       "    }\n",
       "</style>\n",
       "<table border=\"1\" class=\"dataframe\">\n",
       "  <thead>\n",
       "    <tr style=\"text-align: right;\">\n",
       "      <th></th>\n",
       "      <th>Age</th>\n",
       "      <th>Race</th>\n",
       "      <th>Marital Status</th>\n",
       "      <th>T Stage</th>\n",
       "      <th>N Stage</th>\n",
       "      <th>6th Stage</th>\n",
       "      <th>differentiate</th>\n",
       "      <th>Grade</th>\n",
       "      <th>A Stage</th>\n",
       "      <th>Tumor Size</th>\n",
       "      <th>Estrogen Status</th>\n",
       "      <th>Progesterone Status</th>\n",
       "      <th>Regional Node Examined</th>\n",
       "      <th>Reginol Node Positive</th>\n",
       "      <th>Survival Months</th>\n",
       "      <th>Status</th>\n",
       "    </tr>\n",
       "  </thead>\n",
       "  <tbody>\n",
       "    <tr>\n",
       "      <th>Age</th>\n",
       "      <td>1.000000</td>\n",
       "      <td>-0.097035</td>\n",
       "      <td>0.010792</td>\n",
       "      <td>-0.066914</td>\n",
       "      <td>0.002883</td>\n",
       "      <td>-0.025841</td>\n",
       "      <td>-0.006435</td>\n",
       "      <td>-0.099294</td>\n",
       "      <td>-0.020860</td>\n",
       "      <td>-0.077215</td>\n",
       "      <td>-0.059787</td>\n",
       "      <td>0.021269</td>\n",
       "      <td>-0.033345</td>\n",
       "      <td>0.012586</td>\n",
       "      <td>-0.009390</td>\n",
       "      <td>0.055921</td>\n",
       "    </tr>\n",
       "    <tr>\n",
       "      <th>Race</th>\n",
       "      <td>-0.097035</td>\n",
       "      <td>1.000000</td>\n",
       "      <td>0.032398</td>\n",
       "      <td>0.003557</td>\n",
       "      <td>0.019066</td>\n",
       "      <td>0.022911</td>\n",
       "      <td>0.022343</td>\n",
       "      <td>0.030054</td>\n",
       "      <td>0.002047</td>\n",
       "      <td>0.007077</td>\n",
       "      <td>0.042452</td>\n",
       "      <td>0.020930</td>\n",
       "      <td>0.011342</td>\n",
       "      <td>0.009039</td>\n",
       "      <td>-0.002474</td>\n",
       "      <td>-0.004184</td>\n",
       "    </tr>\n",
       "    <tr>\n",
       "      <th>Marital Status</th>\n",
       "      <td>0.010792</td>\n",
       "      <td>0.032398</td>\n",
       "      <td>1.000000</td>\n",
       "      <td>0.033808</td>\n",
       "      <td>0.036525</td>\n",
       "      <td>0.032354</td>\n",
       "      <td>0.021349</td>\n",
       "      <td>0.034080</td>\n",
       "      <td>0.021425</td>\n",
       "      <td>0.024570</td>\n",
       "      <td>0.016682</td>\n",
       "      <td>0.024652</td>\n",
       "      <td>0.004351</td>\n",
       "      <td>0.032473</td>\n",
       "      <td>-0.041208</td>\n",
       "      <td>0.062272</td>\n",
       "    </tr>\n",
       "    <tr>\n",
       "      <th>T Stage</th>\n",
       "      <td>-0.066914</td>\n",
       "      <td>0.003557</td>\n",
       "      <td>0.033808</td>\n",
       "      <td>1.000000</td>\n",
       "      <td>0.277015</td>\n",
       "      <td>0.675088</td>\n",
       "      <td>0.000475</td>\n",
       "      <td>0.131470</td>\n",
       "      <td>0.221124</td>\n",
       "      <td>0.809176</td>\n",
       "      <td>0.060954</td>\n",
       "      <td>0.057633</td>\n",
       "      <td>0.114102</td>\n",
       "      <td>0.243075</td>\n",
       "      <td>-0.085718</td>\n",
       "      <td>0.154699</td>\n",
       "    </tr>\n",
       "    <tr>\n",
       "      <th>N Stage</th>\n",
       "      <td>0.002883</td>\n",
       "      <td>0.019066</td>\n",
       "      <td>0.036525</td>\n",
       "      <td>0.277015</td>\n",
       "      <td>1.000000</td>\n",
       "      <td>0.820819</td>\n",
       "      <td>0.000444</td>\n",
       "      <td>0.162501</td>\n",
       "      <td>0.260573</td>\n",
       "      <td>0.277905</td>\n",
       "      <td>0.101995</td>\n",
       "      <td>0.093723</td>\n",
       "      <td>0.328276</td>\n",
       "      <td>0.838073</td>\n",
       "      <td>-0.139577</td>\n",
       "      <td>0.255772</td>\n",
       "    </tr>\n",
       "    <tr>\n",
       "      <th>6th Stage</th>\n",
       "      <td>-0.025841</td>\n",
       "      <td>0.022911</td>\n",
       "      <td>0.032354</td>\n",
       "      <td>0.675088</td>\n",
       "      <td>0.820819</td>\n",
       "      <td>1.000000</td>\n",
       "      <td>-0.007454</td>\n",
       "      <td>0.185577</td>\n",
       "      <td>0.264373</td>\n",
       "      <td>0.562229</td>\n",
       "      <td>0.100552</td>\n",
       "      <td>0.096183</td>\n",
       "      <td>0.294702</td>\n",
       "      <td>0.695027</td>\n",
       "      <td>-0.136767</td>\n",
       "      <td>0.241840</td>\n",
       "    </tr>\n",
       "    <tr>\n",
       "      <th>differentiate</th>\n",
       "      <td>-0.006435</td>\n",
       "      <td>0.022343</td>\n",
       "      <td>0.021349</td>\n",
       "      <td>0.000475</td>\n",
       "      <td>0.000444</td>\n",
       "      <td>-0.007454</td>\n",
       "      <td>1.000000</td>\n",
       "      <td>-0.105773</td>\n",
       "      <td>0.016824</td>\n",
       "      <td>0.000628</td>\n",
       "      <td>0.073242</td>\n",
       "      <td>0.030258</td>\n",
       "      <td>-0.040787</td>\n",
       "      <td>0.002488</td>\n",
       "      <td>-0.021197</td>\n",
       "      <td>0.021468</td>\n",
       "    </tr>\n",
       "    <tr>\n",
       "      <th>Grade</th>\n",
       "      <td>-0.099294</td>\n",
       "      <td>0.030054</td>\n",
       "      <td>0.034080</td>\n",
       "      <td>0.131470</td>\n",
       "      <td>0.162501</td>\n",
       "      <td>0.185577</td>\n",
       "      <td>-0.105773</td>\n",
       "      <td>1.000000</td>\n",
       "      <td>0.039459</td>\n",
       "      <td>0.119367</td>\n",
       "      <td>0.211251</td>\n",
       "      <td>0.179860</td>\n",
       "      <td>0.084416</td>\n",
       "      <td>0.135319</td>\n",
       "      <td>-0.067669</td>\n",
       "      <td>0.161398</td>\n",
       "    </tr>\n",
       "    <tr>\n",
       "      <th>A Stage</th>\n",
       "      <td>-0.020860</td>\n",
       "      <td>0.002047</td>\n",
       "      <td>0.021425</td>\n",
       "      <td>0.221124</td>\n",
       "      <td>0.260573</td>\n",
       "      <td>0.264373</td>\n",
       "      <td>0.016824</td>\n",
       "      <td>0.039459</td>\n",
       "      <td>1.000000</td>\n",
       "      <td>0.123883</td>\n",
       "      <td>0.065570</td>\n",
       "      <td>0.026530</td>\n",
       "      <td>0.069010</td>\n",
       "      <td>0.232849</td>\n",
       "      <td>-0.070109</td>\n",
       "      <td>0.096584</td>\n",
       "    </tr>\n",
       "    <tr>\n",
       "      <th>Tumor Size</th>\n",
       "      <td>-0.077215</td>\n",
       "      <td>0.007077</td>\n",
       "      <td>0.024570</td>\n",
       "      <td>0.809176</td>\n",
       "      <td>0.277905</td>\n",
       "      <td>0.562229</td>\n",
       "      <td>0.000628</td>\n",
       "      <td>0.119367</td>\n",
       "      <td>0.123883</td>\n",
       "      <td>1.000000</td>\n",
       "      <td>0.059585</td>\n",
       "      <td>0.069879</td>\n",
       "      <td>0.104352</td>\n",
       "      <td>0.242322</td>\n",
       "      <td>-0.086901</td>\n",
       "      <td>0.134205</td>\n",
       "    </tr>\n",
       "    <tr>\n",
       "      <th>Estrogen Status</th>\n",
       "      <td>-0.059787</td>\n",
       "      <td>0.042452</td>\n",
       "      <td>0.016682</td>\n",
       "      <td>0.060954</td>\n",
       "      <td>0.101995</td>\n",
       "      <td>0.100552</td>\n",
       "      <td>0.073242</td>\n",
       "      <td>0.211251</td>\n",
       "      <td>0.065570</td>\n",
       "      <td>0.059585</td>\n",
       "      <td>1.000000</td>\n",
       "      <td>0.513308</td>\n",
       "      <td>0.044836</td>\n",
       "      <td>0.085985</td>\n",
       "      <td>-0.128469</td>\n",
       "      <td>0.184650</td>\n",
       "    </tr>\n",
       "    <tr>\n",
       "      <th>Progesterone Status</th>\n",
       "      <td>0.021269</td>\n",
       "      <td>0.020930</td>\n",
       "      <td>0.024652</td>\n",
       "      <td>0.057633</td>\n",
       "      <td>0.093723</td>\n",
       "      <td>0.096183</td>\n",
       "      <td>0.030258</td>\n",
       "      <td>0.179860</td>\n",
       "      <td>0.026530</td>\n",
       "      <td>0.069879</td>\n",
       "      <td>0.513308</td>\n",
       "      <td>1.000000</td>\n",
       "      <td>0.018051</td>\n",
       "      <td>0.078069</td>\n",
       "      <td>-0.096018</td>\n",
       "      <td>0.177079</td>\n",
       "    </tr>\n",
       "    <tr>\n",
       "      <th>Regional Node Examined</th>\n",
       "      <td>-0.033345</td>\n",
       "      <td>0.011342</td>\n",
       "      <td>0.004351</td>\n",
       "      <td>0.114102</td>\n",
       "      <td>0.328276</td>\n",
       "      <td>0.294702</td>\n",
       "      <td>-0.040787</td>\n",
       "      <td>0.084416</td>\n",
       "      <td>0.069010</td>\n",
       "      <td>0.104352</td>\n",
       "      <td>0.044836</td>\n",
       "      <td>0.018051</td>\n",
       "      <td>1.000000</td>\n",
       "      <td>0.411580</td>\n",
       "      <td>-0.022054</td>\n",
       "      <td>0.034772</td>\n",
       "    </tr>\n",
       "    <tr>\n",
       "      <th>Reginol Node Positive</th>\n",
       "      <td>0.012586</td>\n",
       "      <td>0.009039</td>\n",
       "      <td>0.032473</td>\n",
       "      <td>0.243075</td>\n",
       "      <td>0.838073</td>\n",
       "      <td>0.695027</td>\n",
       "      <td>0.002488</td>\n",
       "      <td>0.135319</td>\n",
       "      <td>0.232849</td>\n",
       "      <td>0.242322</td>\n",
       "      <td>0.085985</td>\n",
       "      <td>0.078069</td>\n",
       "      <td>0.411580</td>\n",
       "      <td>1.000000</td>\n",
       "      <td>-0.135214</td>\n",
       "      <td>0.256638</td>\n",
       "    </tr>\n",
       "    <tr>\n",
       "      <th>Survival Months</th>\n",
       "      <td>-0.009390</td>\n",
       "      <td>-0.002474</td>\n",
       "      <td>-0.041208</td>\n",
       "      <td>-0.085718</td>\n",
       "      <td>-0.139577</td>\n",
       "      <td>-0.136767</td>\n",
       "      <td>-0.021197</td>\n",
       "      <td>-0.067669</td>\n",
       "      <td>-0.070109</td>\n",
       "      <td>-0.086901</td>\n",
       "      <td>-0.128469</td>\n",
       "      <td>-0.096018</td>\n",
       "      <td>-0.022054</td>\n",
       "      <td>-0.135214</td>\n",
       "      <td>1.000000</td>\n",
       "      <td>-0.476514</td>\n",
       "    </tr>\n",
       "    <tr>\n",
       "      <th>Status</th>\n",
       "      <td>0.055921</td>\n",
       "      <td>-0.004184</td>\n",
       "      <td>0.062272</td>\n",
       "      <td>0.154699</td>\n",
       "      <td>0.255772</td>\n",
       "      <td>0.241840</td>\n",
       "      <td>0.021468</td>\n",
       "      <td>0.161398</td>\n",
       "      <td>0.096584</td>\n",
       "      <td>0.134205</td>\n",
       "      <td>0.184650</td>\n",
       "      <td>0.177079</td>\n",
       "      <td>0.034772</td>\n",
       "      <td>0.256638</td>\n",
       "      <td>-0.476514</td>\n",
       "      <td>1.000000</td>\n",
       "    </tr>\n",
       "  </tbody>\n",
       "</table>\n",
       "</div>"
      ],
      "text/plain": [
       "                             Age      Race  Marital Status  T Stage   \\\n",
       "Age                     1.000000 -0.097035        0.010792 -0.066914   \n",
       "Race                   -0.097035  1.000000        0.032398  0.003557   \n",
       "Marital Status          0.010792  0.032398        1.000000  0.033808   \n",
       "T Stage                -0.066914  0.003557        0.033808  1.000000   \n",
       "N Stage                 0.002883  0.019066        0.036525  0.277015   \n",
       "6th Stage              -0.025841  0.022911        0.032354  0.675088   \n",
       "differentiate          -0.006435  0.022343        0.021349  0.000475   \n",
       "Grade                  -0.099294  0.030054        0.034080  0.131470   \n",
       "A Stage                -0.020860  0.002047        0.021425  0.221124   \n",
       "Tumor Size             -0.077215  0.007077        0.024570  0.809176   \n",
       "Estrogen Status        -0.059787  0.042452        0.016682  0.060954   \n",
       "Progesterone Status     0.021269  0.020930        0.024652  0.057633   \n",
       "Regional Node Examined -0.033345  0.011342        0.004351  0.114102   \n",
       "Reginol Node Positive   0.012586  0.009039        0.032473  0.243075   \n",
       "Survival Months        -0.009390 -0.002474       -0.041208 -0.085718   \n",
       "Status                  0.055921 -0.004184        0.062272  0.154699   \n",
       "\n",
       "                         N Stage  6th Stage  differentiate     Grade  \\\n",
       "Age                     0.002883  -0.025841      -0.006435 -0.099294   \n",
       "Race                    0.019066   0.022911       0.022343  0.030054   \n",
       "Marital Status          0.036525   0.032354       0.021349  0.034080   \n",
       "T Stage                 0.277015   0.675088       0.000475  0.131470   \n",
       "N Stage                 1.000000   0.820819       0.000444  0.162501   \n",
       "6th Stage               0.820819   1.000000      -0.007454  0.185577   \n",
       "differentiate           0.000444  -0.007454       1.000000 -0.105773   \n",
       "Grade                   0.162501   0.185577      -0.105773  1.000000   \n",
       "A Stage                 0.260573   0.264373       0.016824  0.039459   \n",
       "Tumor Size              0.277905   0.562229       0.000628  0.119367   \n",
       "Estrogen Status         0.101995   0.100552       0.073242  0.211251   \n",
       "Progesterone Status     0.093723   0.096183       0.030258  0.179860   \n",
       "Regional Node Examined  0.328276   0.294702      -0.040787  0.084416   \n",
       "Reginol Node Positive   0.838073   0.695027       0.002488  0.135319   \n",
       "Survival Months        -0.139577  -0.136767      -0.021197 -0.067669   \n",
       "Status                  0.255772   0.241840       0.021468  0.161398   \n",
       "\n",
       "                         A Stage  Tumor Size  Estrogen Status  \\\n",
       "Age                    -0.020860   -0.077215        -0.059787   \n",
       "Race                    0.002047    0.007077         0.042452   \n",
       "Marital Status          0.021425    0.024570         0.016682   \n",
       "T Stage                 0.221124    0.809176         0.060954   \n",
       "N Stage                 0.260573    0.277905         0.101995   \n",
       "6th Stage               0.264373    0.562229         0.100552   \n",
       "differentiate           0.016824    0.000628         0.073242   \n",
       "Grade                   0.039459    0.119367         0.211251   \n",
       "A Stage                 1.000000    0.123883         0.065570   \n",
       "Tumor Size              0.123883    1.000000         0.059585   \n",
       "Estrogen Status         0.065570    0.059585         1.000000   \n",
       "Progesterone Status     0.026530    0.069879         0.513308   \n",
       "Regional Node Examined  0.069010    0.104352         0.044836   \n",
       "Reginol Node Positive   0.232849    0.242322         0.085985   \n",
       "Survival Months        -0.070109   -0.086901        -0.128469   \n",
       "Status                  0.096584    0.134205         0.184650   \n",
       "\n",
       "                        Progesterone Status  Regional Node Examined  \\\n",
       "Age                                0.021269               -0.033345   \n",
       "Race                               0.020930                0.011342   \n",
       "Marital Status                     0.024652                0.004351   \n",
       "T Stage                            0.057633                0.114102   \n",
       "N Stage                            0.093723                0.328276   \n",
       "6th Stage                          0.096183                0.294702   \n",
       "differentiate                      0.030258               -0.040787   \n",
       "Grade                              0.179860                0.084416   \n",
       "A Stage                            0.026530                0.069010   \n",
       "Tumor Size                         0.069879                0.104352   \n",
       "Estrogen Status                    0.513308                0.044836   \n",
       "Progesterone Status                1.000000                0.018051   \n",
       "Regional Node Examined             0.018051                1.000000   \n",
       "Reginol Node Positive              0.078069                0.411580   \n",
       "Survival Months                   -0.096018               -0.022054   \n",
       "Status                             0.177079                0.034772   \n",
       "\n",
       "                        Reginol Node Positive  Survival Months    Status  \n",
       "Age                                  0.012586        -0.009390  0.055921  \n",
       "Race                                 0.009039        -0.002474 -0.004184  \n",
       "Marital Status                       0.032473        -0.041208  0.062272  \n",
       "T Stage                              0.243075        -0.085718  0.154699  \n",
       "N Stage                              0.838073        -0.139577  0.255772  \n",
       "6th Stage                            0.695027        -0.136767  0.241840  \n",
       "differentiate                        0.002488        -0.021197  0.021468  \n",
       "Grade                                0.135319        -0.067669  0.161398  \n",
       "A Stage                              0.232849        -0.070109  0.096584  \n",
       "Tumor Size                           0.242322        -0.086901  0.134205  \n",
       "Estrogen Status                      0.085985        -0.128469  0.184650  \n",
       "Progesterone Status                  0.078069        -0.096018  0.177079  \n",
       "Regional Node Examined               0.411580        -0.022054  0.034772  \n",
       "Reginol Node Positive                1.000000        -0.135214  0.256638  \n",
       "Survival Months                     -0.135214         1.000000 -0.476514  \n",
       "Status                               0.256638        -0.476514  1.000000  "
      ]
     },
     "execution_count": 301,
     "metadata": {},
     "output_type": "execute_result"
    }
   ],
   "source": [
    "data.corr()"
   ]
  },
  {
   "cell_type": "code",
   "execution_count": 302,
   "id": "97ce8a59",
   "metadata": {},
   "outputs": [],
   "source": [
    "# data.drop(['Survival Months'], axis=1, inplace=True) # Un-comment this and watch the accuracy drop!"
   ]
  },
  {
   "cell_type": "code",
   "execution_count": 303,
   "id": "d986e9a5",
   "metadata": {},
   "outputs": [],
   "source": [
    "X = data.drop(\"Status\", axis=1)\n",
    "y = data['Status']"
   ]
  },
  {
   "cell_type": "code",
   "execution_count": 304,
   "id": "49fa0a6c",
   "metadata": {},
   "outputs": [
    {
     "data": {
      "text/plain": [
       "((4024, 15), (4024,))"
      ]
     },
     "execution_count": 304,
     "metadata": {},
     "output_type": "execute_result"
    }
   ],
   "source": [
    "X.shape, y.shape"
   ]
  },
  {
   "attachments": {},
   "cell_type": "markdown",
   "id": "2a8a678b",
   "metadata": {},
   "source": [
    "## Data Transformation"
   ]
  },
  {
   "cell_type": "code",
   "execution_count": 305,
   "id": "299550f4",
   "metadata": {},
   "outputs": [],
   "source": [
    "sc = StandardScaler()\n",
    "X = sc.fit_transform(X)"
   ]
  },
  {
   "attachments": {},
   "cell_type": "markdown",
   "id": "291faaf4",
   "metadata": {},
   "source": [
    "## Data Splitting"
   ]
  },
  {
   "cell_type": "code",
   "execution_count": 306,
   "id": "79477c01",
   "metadata": {},
   "outputs": [],
   "source": [
    "X_train, X_test, y_train, y_test = train_test_split(X, y, test_size=0.25, random_state=42)"
   ]
  },
  {
   "cell_type": "code",
   "execution_count": 307,
   "id": "6e041b0f",
   "metadata": {},
   "outputs": [
    {
     "data": {
      "text/plain": [
       "((3018, 15), (3018,), (1006, 15), (1006,))"
      ]
     },
     "execution_count": 307,
     "metadata": {},
     "output_type": "execute_result"
    }
   ],
   "source": [
    "X_train.shape, y_train.shape, X_test.shape, y_test.shape"
   ]
  },
  {
   "attachments": {},
   "cell_type": "markdown",
   "id": "77bd301e",
   "metadata": {},
   "source": [
    "## Model Definition"
   ]
  },
  {
   "cell_type": "code",
   "execution_count": 308,
   "id": "c4633651",
   "metadata": {},
   "outputs": [],
   "source": [
    "model = LogisticRegression(n_jobs=-1)"
   ]
  },
  {
   "cell_type": "code",
   "execution_count": 309,
   "id": "fddd56b5",
   "metadata": {},
   "outputs": [
    {
     "data": {
      "text/html": [
       "<style>#sk-container-id-8 {color: black;background-color: white;}#sk-container-id-8 pre{padding: 0;}#sk-container-id-8 div.sk-toggleable {background-color: white;}#sk-container-id-8 label.sk-toggleable__label {cursor: pointer;display: block;width: 100%;margin-bottom: 0;padding: 0.3em;box-sizing: border-box;text-align: center;}#sk-container-id-8 label.sk-toggleable__label-arrow:before {content: \"▸\";float: left;margin-right: 0.25em;color: #696969;}#sk-container-id-8 label.sk-toggleable__label-arrow:hover:before {color: black;}#sk-container-id-8 div.sk-estimator:hover label.sk-toggleable__label-arrow:before {color: black;}#sk-container-id-8 div.sk-toggleable__content {max-height: 0;max-width: 0;overflow: hidden;text-align: left;background-color: #f0f8ff;}#sk-container-id-8 div.sk-toggleable__content pre {margin: 0.2em;color: black;border-radius: 0.25em;background-color: #f0f8ff;}#sk-container-id-8 input.sk-toggleable__control:checked~div.sk-toggleable__content {max-height: 200px;max-width: 100%;overflow: auto;}#sk-container-id-8 input.sk-toggleable__control:checked~label.sk-toggleable__label-arrow:before {content: \"▾\";}#sk-container-id-8 div.sk-estimator input.sk-toggleable__control:checked~label.sk-toggleable__label {background-color: #d4ebff;}#sk-container-id-8 div.sk-label input.sk-toggleable__control:checked~label.sk-toggleable__label {background-color: #d4ebff;}#sk-container-id-8 input.sk-hidden--visually {border: 0;clip: rect(1px 1px 1px 1px);clip: rect(1px, 1px, 1px, 1px);height: 1px;margin: -1px;overflow: hidden;padding: 0;position: absolute;width: 1px;}#sk-container-id-8 div.sk-estimator {font-family: monospace;background-color: #f0f8ff;border: 1px dotted black;border-radius: 0.25em;box-sizing: border-box;margin-bottom: 0.5em;}#sk-container-id-8 div.sk-estimator:hover {background-color: #d4ebff;}#sk-container-id-8 div.sk-parallel-item::after {content: \"\";width: 100%;border-bottom: 1px solid gray;flex-grow: 1;}#sk-container-id-8 div.sk-label:hover label.sk-toggleable__label {background-color: #d4ebff;}#sk-container-id-8 div.sk-serial::before {content: \"\";position: absolute;border-left: 1px solid gray;box-sizing: border-box;top: 0;bottom: 0;left: 50%;z-index: 0;}#sk-container-id-8 div.sk-serial {display: flex;flex-direction: column;align-items: center;background-color: white;padding-right: 0.2em;padding-left: 0.2em;position: relative;}#sk-container-id-8 div.sk-item {position: relative;z-index: 1;}#sk-container-id-8 div.sk-parallel {display: flex;align-items: stretch;justify-content: center;background-color: white;position: relative;}#sk-container-id-8 div.sk-item::before, #sk-container-id-8 div.sk-parallel-item::before {content: \"\";position: absolute;border-left: 1px solid gray;box-sizing: border-box;top: 0;bottom: 0;left: 50%;z-index: -1;}#sk-container-id-8 div.sk-parallel-item {display: flex;flex-direction: column;z-index: 1;position: relative;background-color: white;}#sk-container-id-8 div.sk-parallel-item:first-child::after {align-self: flex-end;width: 50%;}#sk-container-id-8 div.sk-parallel-item:last-child::after {align-self: flex-start;width: 50%;}#sk-container-id-8 div.sk-parallel-item:only-child::after {width: 0;}#sk-container-id-8 div.sk-dashed-wrapped {border: 1px dashed gray;margin: 0 0.4em 0.5em 0.4em;box-sizing: border-box;padding-bottom: 0.4em;background-color: white;}#sk-container-id-8 div.sk-label label {font-family: monospace;font-weight: bold;display: inline-block;line-height: 1.2em;}#sk-container-id-8 div.sk-label-container {text-align: center;}#sk-container-id-8 div.sk-container {/* jupyter's `normalize.less` sets `[hidden] { display: none; }` but bootstrap.min.css set `[hidden] { display: none !important; }` so we also need the `!important` here to be able to override the default hidden behavior on the sphinx rendered scikit-learn.org. See: https://github.com/scikit-learn/scikit-learn/issues/21755 */display: inline-block !important;position: relative;}#sk-container-id-8 div.sk-text-repr-fallback {display: none;}</style><div id=\"sk-container-id-8\" class=\"sk-top-container\"><div class=\"sk-text-repr-fallback\"><pre>LogisticRegression(n_jobs=-1)</pre><b>In a Jupyter environment, please rerun this cell to show the HTML representation or trust the notebook. <br />On GitHub, the HTML representation is unable to render, please try loading this page with nbviewer.org.</b></div><div class=\"sk-container\" hidden><div class=\"sk-item\"><div class=\"sk-estimator sk-toggleable\"><input class=\"sk-toggleable__control sk-hidden--visually\" id=\"sk-estimator-id-8\" type=\"checkbox\" checked><label for=\"sk-estimator-id-8\" class=\"sk-toggleable__label sk-toggleable__label-arrow\">LogisticRegression</label><div class=\"sk-toggleable__content\"><pre>LogisticRegression(n_jobs=-1)</pre></div></div></div></div></div>"
      ],
      "text/plain": [
       "LogisticRegression(n_jobs=-1)"
      ]
     },
     "execution_count": 309,
     "metadata": {},
     "output_type": "execute_result"
    }
   ],
   "source": [
    "model.fit(X_train, y_train)"
   ]
  },
  {
   "attachments": {},
   "cell_type": "markdown",
   "id": "4a59c164",
   "metadata": {},
   "source": [
    "## Model Evaluation"
   ]
  },
  {
   "cell_type": "code",
   "execution_count": 310,
   "id": "dd304c52",
   "metadata": {},
   "outputs": [
    {
     "data": {
      "text/plain": [
       "0.9065606361829026"
      ]
     },
     "execution_count": 310,
     "metadata": {},
     "output_type": "execute_result"
    }
   ],
   "source": [
    "model.score(X_test, y_test)"
   ]
  },
  {
   "cell_type": "code",
   "execution_count": 311,
   "id": "0b825c62",
   "metadata": {},
   "outputs": [],
   "source": [
    "y_pred = model.predict(X_test)"
   ]
  },
  {
   "cell_type": "code",
   "execution_count": 312,
   "id": "ecd8a26d",
   "metadata": {},
   "outputs": [
    {
     "name": "stdout",
     "output_type": "stream",
     "text": [
      "              precision    recall  f1-score   support\n",
      "\n",
      "           0       0.92      0.98      0.95       863\n",
      "           1       0.80      0.45      0.58       143\n",
      "\n",
      "    accuracy                           0.91      1006\n",
      "   macro avg       0.86      0.72      0.76      1006\n",
      "weighted avg       0.90      0.91      0.90      1006\n",
      "\n"
     ]
    }
   ],
   "source": [
    "print(classification_report(y_test, y_pred))"
   ]
  },
  {
   "cell_type": "code",
   "execution_count": 313,
   "id": "1a633256",
   "metadata": {},
   "outputs": [
    {
     "data": {
      "text/plain": [
       "0.9065606361829026"
      ]
     },
     "execution_count": 313,
     "metadata": {},
     "output_type": "execute_result"
    }
   ],
   "source": [
    "accuracy_score(y_test, y_pred)"
   ]
  },
  {
   "cell_type": "code",
   "execution_count": 314,
   "id": "bf8138a2",
   "metadata": {},
   "outputs": [
    {
     "data": {
      "text/plain": [
       "0.09343936381709739"
      ]
     },
     "execution_count": 314,
     "metadata": {},
     "output_type": "execute_result"
    }
   ],
   "source": [
    "1 - accuracy_score(y_test, y_pred)"
   ]
  },
  {
   "cell_type": "code",
   "execution_count": 315,
   "id": "60c8bc7e",
   "metadata": {},
   "outputs": [
    {
     "data": {
      "text/plain": [
       "0.8024691358024691"
      ]
     },
     "execution_count": 315,
     "metadata": {},
     "output_type": "execute_result"
    }
   ],
   "source": [
    "precision_score(y_test, y_pred)"
   ]
  },
  {
   "cell_type": "code",
   "execution_count": 316,
   "id": "cd95c726",
   "metadata": {},
   "outputs": [
    {
     "data": {
      "text/plain": [
       "0.45454545454545453"
      ]
     },
     "execution_count": 316,
     "metadata": {},
     "output_type": "execute_result"
    }
   ],
   "source": [
    "recall_score(y_test, y_pred)"
   ]
  },
  {
   "cell_type": "code",
   "execution_count": 317,
   "id": "675301c0",
   "metadata": {},
   "outputs": [
    {
     "data": {
      "text/plain": [
       "0.5803571428571428"
      ]
     },
     "execution_count": 317,
     "metadata": {},
     "output_type": "execute_result"
    }
   ],
   "source": [
    "f1_score(y_test, y_pred)"
   ]
  },
  {
   "cell_type": "code",
   "execution_count": 318,
   "id": "d64a3197",
   "metadata": {},
   "outputs": [],
   "source": [
    "cm = confusion_matrix(y_test, y_pred)"
   ]
  },
  {
   "cell_type": "code",
   "execution_count": 319,
   "id": "f681b131",
   "metadata": {},
   "outputs": [
    {
     "data": {
      "text/plain": [
       "array([[847,  16],\n",
       "       [ 78,  65]], dtype=int64)"
      ]
     },
     "execution_count": 319,
     "metadata": {},
     "output_type": "execute_result"
    }
   ],
   "source": [
    "cm"
   ]
  },
  {
   "cell_type": "code",
   "execution_count": 320,
   "id": "9241b308",
   "metadata": {
    "scrolled": false
   },
   "outputs": [
    {
     "data": {
      "image/png": "[encoded data removed]",
      "text/plain": [
       "<Figure size 360x360 with 2 Axes>"
      ]
     },
     "metadata": {
      "needs_background": "light"
     },
     "output_type": "display_data"
    }
   ],
   "source": [
    "plt.figure(figsize=(5, 5))\n",
    "sns.heatmap(cm, annot=True, cmap=\"YlGnBu\")\n",
    "plt.show()"
   ]
  },
  {
   "attachments": {},
   "cell_type": "markdown",
   "id": "c43869af",
   "metadata": {},
   "source": [
    "## Extra Techniques for classification."
   ]
  },
  {
   "attachments": {},
   "cell_type": "markdown",
   "id": "5855a745",
   "metadata": {},
   "source": [
    "### 1. With SVM"
   ]
  },
  {
   "cell_type": "code",
   "execution_count": 321,
   "id": "c0f5fa59",
   "metadata": {},
   "outputs": [
    {
     "data": {
      "text/plain": [
       "0.9025844930417495"
      ]
     },
     "execution_count": 321,
     "metadata": {},
     "output_type": "execute_result"
    }
   ],
   "source": [
    "from sklearn.svm import SVC\n",
    "model_2 = SVC(kernel='rbf')\n",
    "model_2.fit(X_train, y_train)\n",
    "model_2.score(X_test, y_test)"
   ]
  },
  {
   "cell_type": "code",
   "execution_count": 322,
   "id": "c05fb8b4",
   "metadata": {},
   "outputs": [
    {
     "name": "stdout",
     "output_type": "stream",
     "text": [
      "              precision    recall  f1-score   support\n",
      "\n",
      "           0       0.91      0.98      0.95       863\n",
      "           1       0.82      0.41      0.54       143\n",
      "\n",
      "    accuracy                           0.90      1006\n",
      "   macro avg       0.86      0.70      0.74      1006\n",
      "weighted avg       0.90      0.90      0.89      1006\n",
      "\n"
     ]
    }
   ],
   "source": [
    "y_pred = model_2.predict(X_test)\n",
    "print(classification_report(y_test, y_pred))"
   ]
  },
  {
   "cell_type": "code",
   "execution_count": 323,
   "id": "dc6049d3",
   "metadata": {},
   "outputs": [
    {
     "data": {
      "image/png": "[encoded data removed]",
      "text/plain": [
       "<Figure size 360x360 with 2 Axes>"
      ]
     },
     "metadata": {
      "needs_background": "light"
     },
     "output_type": "display_data"
    }
   ],
   "source": [
    "cm = confusion_matrix(y_test, y_pred)\n",
    "plt.figure(figsize=(5, 5))\n",
    "sns.heatmap(cm, annot=True, cmap=\"YlGnBu\")\n",
    "plt.show()"
   ]
  },
  {
   "attachments": {},
   "cell_type": "markdown",
   "id": "ebb07fa1",
   "metadata": {},
   "source": [
    "### 2. With Naive Bayes"
   ]
  },
  {
   "cell_type": "code",
   "execution_count": 324,
   "id": "e945921d",
   "metadata": {},
   "outputs": [
    {
     "data": {
      "text/plain": [
       "0.8330019880715706"
      ]
     },
     "execution_count": 324,
     "metadata": {},
     "output_type": "execute_result"
    }
   ],
   "source": [
    "from sklearn.naive_bayes import GaussianNB\n",
    "\n",
    "model_3 = GaussianNB()\n",
    "model_3.fit(X_train, y_train)\n",
    "model_3.score(X_test, y_test)"
   ]
  },
  {
   "cell_type": "code",
   "execution_count": 325,
   "id": "3f042a44",
   "metadata": {},
   "outputs": [
    {
     "name": "stdout",
     "output_type": "stream",
     "text": [
      "              precision    recall  f1-score   support\n",
      "\n",
      "           0       0.91      0.89      0.90       863\n",
      "           1       0.42      0.48      0.45       143\n",
      "\n",
      "    accuracy                           0.83      1006\n",
      "   macro avg       0.67      0.68      0.67      1006\n",
      "weighted avg       0.84      0.83      0.84      1006\n",
      "\n"
     ]
    }
   ],
   "source": [
    "y_pred = model_3.predict(X_test)\n",
    "print(classification_report(y_test, y_pred))"
   ]
  },
  {
   "cell_type": "code",
   "execution_count": 326,
   "id": "84e370d5",
   "metadata": {},
   "outputs": [
    {
     "data": {
      "image/png": "[encoded data removed]",
      "text/plain": [
       "<Figure size 360x360 with 2 Axes>"
      ]
     },
     "metadata": {
      "needs_background": "light"
     },
     "output_type": "display_data"
    }
   ],
   "source": [
    "cm = confusion_matrix(y_test, y_pred)\n",
    "plt.figure(figsize=(5, 5))\n",
    "sns.heatmap(cm, annot=True, cmap=\"YlGnBu\")\n",
    "plt.show()"
   ]
  }
 ],
 "metadata": {
  "kernelspec": {
   "display_name": "Python 3 (ipykernel)",
   "language": "python",
   "name": "python3"
  },
  "language_info": {
   "codemirror_mode": {
    "name": "ipython",
    "version": 3
   },
   "file_extension": ".py",
   "mimetype": "text/x-python",
   "name": "python",
   "nbconvert_exporter": "python",
   "pygments_lexer": "ipython3",
   "version": "3.10.8"
  }
 },
 "nbformat": 4,
 "nbformat_minor": 5
}
